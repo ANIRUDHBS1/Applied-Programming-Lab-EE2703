{
 "cells": [
  {
   "cell_type": "markdown",
   "id": "814bbea8",
   "metadata": {},
   "source": [
    "<center>\n",
    "\n",
    "# EE2703 - Assignment 1\n",
    "\n",
    "## Name : ANIRUDH B S\n",
    "## Roll No : EE21B019\n",
    "</center>"
   ]
  },
  {
   "cell_type": "markdown",
   "id": "bc66b3b5-035d-4397-af1d-5c64e180632f",
   "metadata": {},
   "source": [
    "# Document metadata\n",
    "\n",
    "> *The changes that needed to be made to modify the author name firstly included to generate the TeX file using Jupyter Notebook. Go to File, Download As and select LaTeX. In the TeX file, change the author name to ANIRUDH B S (EE21B019). I would prefer this approach of generating the TeX file first and then generate the PDF as I would get another chance to look over any changes which I could make to the TeX file to generate the PDF. This notebook consists of almost everything that has been covered in the PDF.*"
   ]
  },
  {
   "cell_type": "markdown",
   "id": "e6a92c32",
   "metadata": {},
   "source": [
    "# Basic Data Types"
   ]
  },
  {
   "cell_type": "markdown",
   "id": "90d271f4",
   "metadata": {},
   "source": [
    "## Numerical types"
   ]
  },
  {
   "cell_type": "code",
   "execution_count": 1,
   "id": "1e2d2e6e",
   "metadata": {},
   "outputs": [
    {
     "name": "stdout",
     "output_type": "stream",
     "text": [
      "2.4\n"
     ]
    }
   ],
   "source": [
    "print(12 / 5) # Simple Division"
   ]
  },
  {
   "cell_type": "markdown",
   "id": "3504d3b5",
   "metadata": {},
   "source": [
    "### Reason \n",
    "Python is a language that interprets data types differently. It can go about converting from integer to float very easily. Actual division of 12 by 5 gives answer 2.4 and python being a language that juggles around with data types converts 12 (int) and 5 (int) to give 2.4 (float). Languages like C or C++ would have given a result of 2 which is quite intuitive as both the numbers are integers and output also needs to be an integer. "
   ]
  },
  {
   "cell_type": "code",
   "execution_count": 2,
   "id": "1b587eb7",
   "metadata": {},
   "outputs": [
    {
     "name": "stdout",
     "output_type": "stream",
     "text": [
      "2\n"
     ]
    }
   ],
   "source": [
    "print(12 // 5) #Simple Remainder"
   ]
  },
  {
   "cell_type": "markdown",
   "id": "b29c5d09",
   "metadata": {},
   "source": [
    "### Reason \n",
    "The // operator is similar in operation to % which represents modulo operation. It returns remainder when a is divided by b when written in the following form : a%b or a//b. Here, a is 12 and b is 5 which clearly indicates why the answer is 2 as remainder is 2."
   ]
  },
  {
   "cell_type": "code",
   "execution_count": 3,
   "id": "97a6c535",
   "metadata": {},
   "outputs": [
    {
     "name": "stdout",
     "output_type": "stream",
     "text": [
      "10 10 1.0\n"
     ]
    }
   ],
   "source": [
    "a=b=10 #Simple division\n",
    "print(a,b,a/b)"
   ]
  },
  {
   "cell_type": "markdown",
   "id": "941ac544",
   "metadata": {},
   "source": [
    "### Reason\n",
    "- a and b are initialised as integers and thus they remained as integers as they are not hampered with in the problem. Thus a is 10 and b is also 10\n",
    "- As the case with Cell No.1, the result of division is a floating number. Thus 10/10 gave 1.0 as against 1, which we definitely can get by casting it to int. The result of division is always a **floating point number in Python**. "
   ]
  },
  {
   "cell_type": "markdown",
   "id": "af329d1c",
   "metadata": {},
   "source": [
    "## Strings and related operations"
   ]
  },
  {
   "cell_type": "code",
   "execution_count": 4,
   "id": "ba913542",
   "metadata": {},
   "outputs": [
    {
     "name": "stdout",
     "output_type": "stream",
     "text": [
      "Hello \n"
     ]
    }
   ],
   "source": [
    "a = \"Hello \"\n",
    "print(a)  #Changing of data type from int to str"
   ]
  },
  {
   "cell_type": "markdown",
   "id": "75e7d188",
   "metadata": {},
   "source": [
    "### Reason\n",
    "Python is a very robust and versatile language. A variable once used as int can again be used as a str or list or any other data type. Thus this conversion is permitted in python as against orthodox OOPs like C or C++ which do not permit such a conversion. "
   ]
  },
  {
   "cell_type": "code",
   "execution_count": 5,
   "id": "b55425ad",
   "metadata": {},
   "outputs": [],
   "source": [
    "b = '10' #Changing data type from int to str for concatenation"
   ]
  },
  {
   "cell_type": "markdown",
   "id": "a51b1ace",
   "metadata": {},
   "source": [
    "### This cell has been added.\n",
    "The cell has been added by me because we need the output to be \"Hello 10\". Python cannot concatenate a str with an int and both the inputs to be concatenated needs to of str data type. Note that python doesn't use anything called string. String as in conventional C or C++ is a clearly described data type called str in python. "
   ]
  },
  {
   "cell_type": "code",
   "execution_count": 6,
   "id": "ad0e046b",
   "metadata": {},
   "outputs": [
    {
     "name": "stdout",
     "output_type": "stream",
     "text": [
      "Hello 10\n"
     ]
    }
   ],
   "source": [
    "print(a+b)  # Output contains \"Hello 10\" "
   ]
  },
  {
   "cell_type": "markdown",
   "id": "53969101",
   "metadata": {},
   "source": [
    "### The original block had a bug !\n",
    "The bug was because b was not a str variable. However, adding the cell b= '10' will result in the output being printed as \"Hello 10\". \n",
    "\n",
    "This is a nice example of operator overloading. The '+' operator can be used for concatenation of two str variables or addition of two ints or floats. \n",
    "As mentioned earlier, a cell has been added as we cannot concatenate a str and int object. We need both str and this has been done in the preceding cell."
   ]
  },
  {
   "cell_type": "code",
   "execution_count": 7,
   "id": "e2793fa4",
   "metadata": {},
   "outputs": [
    {
     "name": "stdout",
     "output_type": "stream",
     "text": [
      "----------------------------------------42\n",
      "*-*-*-*-*-*-*-*-*-*-*-*-*-*-*-*-*-*-*-*-"
     ]
    }
   ],
   "source": [
    "for i in range(40):\n",
    "    print('-', end = \"\") #Print 40 minus signs in a row. \n",
    "print (42) #Now we print 42 to right justify the number as asked in the question\n",
    "for j in range(40):\n",
    "    if j%2 == 0 :\n",
    "        print ('*', end = \"\") #Prints * and - alternatively as described\n",
    "    else :\n",
    "        print('-', end = \"\")"
   ]
  },
  {
   "cell_type": "code",
   "execution_count": 2,
   "id": "70b975f2",
   "metadata": {},
   "outputs": [
    {
     "name": "stdout",
     "output_type": "stream",
     "text": [
      "----------------------------------------\n",
      "                                        42\n",
      "*-*-*-*-*-*-*-*-*-*-*-*-*-*-*-*-*-*-*-*-"
     ]
    }
   ],
   "source": [
    "for i in range(40):\n",
    "    print('-', end = \"\") #Print 40 minus signs in a row. \n",
    "print()\n",
    "for k in range(40):\n",
    "    print(' ', end = \"\")#Print 40 blank spaces\n",
    "print (42) #Now we print 42 to right justify the number as asked in the question\n",
    "for j in range(40):\n",
    "    if j%2 == 0 :\n",
    "        print ('*', end = \"\") #Prints * and - alternatively as described\n",
    "    else :\n",
    "        print('-', end = \"\")"
   ]
  },
  {
   "cell_type": "markdown",
   "id": "fb8bd209",
   "metadata": {},
   "source": [
    "### Why two cells ?\n",
    "There was slight ambiguity with reference to the question. The right justify of 42 was with respect to the line of 40 '-'s or a new line of 40 ' ' was not clear. Thus, I have printed both the possibilities."
   ]
  },
  {
   "cell_type": "markdown",
   "id": "78fee3a1",
   "metadata": {},
   "source": [
    "The idea for this has been taken from the documentation of python.\n",
    "The print function has following parameters according to the documentation. \n",
    "- objects - Object that needs to be printed\n",
    "- sep - Indicates the separator between words. Generally it is white space\n",
    "- end - Indicates how the line should end. Typically it ends with '\\n'\n",
    "\n",
    "The format of print is (objects, sep = ' ', end = '\\n')"
   ]
  },
  {
   "cell_type": "code",
   "execution_count": 8,
   "id": "9b4e1f03",
   "metadata": {},
   "outputs": [
    {
     "name": "stdout",
     "output_type": "stream",
     "text": [
      "The variable 'a' has the value Hello  and 'b' has the value         10\n"
     ]
    }
   ],
   "source": [
    "print(f\"The variable 'a' has the value {a} and 'b' has the value {b:>10}\") #Use of f strings "
   ]
  },
  {
   "cell_type": "markdown",
   "id": "34a692dc",
   "metadata": {},
   "source": [
    "### Explanation : F strings to format text\n",
    "F strings stand for formatted strings. Python allows us to use f strings which allows us to plug in values directly into the output stream. \n",
    "This is unique to python, we could also use concatenation of strings to generate the ouptut, but this is a really new and elegant way of writing code. Also from this, we are able to conclude that after 10 spaces b is printed."
   ]
  },
  {
   "cell_type": "code",
   "execution_count": 9,
   "id": "9d746f81",
   "metadata": {},
   "outputs": [
    {
     "name": "stdout",
     "output_type": "stream",
     "text": [
      "EE2703                     Applied Programming Lab\n",
      "EE2003                       Computer Organization\n",
      "EE5311                           Digital IC Design\n"
     ]
    }
   ],
   "source": [
    "l = []  #Creation of empty list \n",
    "b = {}\n",
    "c = {}\n",
    "d = {}  #Creation of empty dictionaries\n",
    "b[\"id\"] = \"EE2703\"                      #Adds id = EE2703 and corresponding course name to d.\n",
    "b[\"name\"] = \"Applied Programming Lab\"\n",
    "l.append(b)\n",
    "c[\"id\"] = \"EE2003\"                      #Adds id = EE2003 and corresponding course name to d.\n",
    "c[\"name\"] = \"Computer Organization\"\n",
    "l.append(c)\n",
    "d[\"id\"] = \"EE5311\"                      #Adds id = EE5311 and corresponding course name to d.\n",
    "d[\"name\"] = \"Digital IC Design\"\n",
    "l.append(d)\n",
    "for elem in l:\n",
    "    print(elem[\"id\"], end='') #Print course ID\n",
    "    for j in range((10-len(elem[\"id\"]))+(40-len(elem[\"name\"]))): #Print spaces\n",
    "        print(' ', end = '')\n",
    "    print(elem[\"name\"]) #Print course name"
   ]
  },
  {
   "cell_type": "markdown",
   "id": "ba7772e9",
   "metadata": {},
   "source": [
    "### Reason\n",
    "I have used separate dictionaries to store each id and corresponding name since if I use only one dictionary, the list will contain only EE5311 and Digital IC Design as its three elements. This is because Python maintains a reference to the address of the dictionary, so once after modification of the dictionary even after appending to the list would result in that value getting altered.\n",
    "\n",
    "The above method of printing has been adopted as it looks more friendly to the reader. As apparent from the comments in the code, we have utilised exactly 50 characters including the id, name and blank space. As mentioned earlier, the documentation of Python provides us with an opportunity to change how a sentence printed on stdout could end in using end = ' ' as done above. \n",
    "\n",
    "The complexity of the code is O(k) where k is the number of keys present in the dictionary. This is true because we print exactly 50 letters each time. So the constant 50 can be dropped out in determining the time complexity. In my opinion, this is a good time complexity and thus the method."
   ]
  },
  {
   "cell_type": "markdown",
   "id": "959169d6",
   "metadata": {},
   "source": [
    "# Functions for general manipulation"
   ]
  },
  {
   "cell_type": "code",
   "execution_count": 10,
   "id": "fb799573",
   "metadata": {},
   "outputs": [],
   "source": [
    "def twosc(x, N=16):\n",
    "    l = []\n",
    "    if x >= 0 and x < pow(2, N-1): #Prints binary representation for positive number\n",
    "        while x >= 1 :\n",
    "            l.append(x%2)          #We store remainder in a list. This list has the binary representation in reverse order\n",
    "            x = int(x/2)\n",
    "        for _ in range(N-len(l)) :\n",
    "            print(0, end='')       #Print 0s to required precision.\n",
    "        for v in reversed(l):\n",
    "            print(v, end='')\n",
    "    elif x>= -pow(2,N-1) and x<0: #Prints binary representation for negative number\n",
    "        y = -x                    #Find binary representation of abs(x)\n",
    "        count = 0\n",
    "        while y >= 1 :\n",
    "            if count == 0 :\n",
    "                l.append(y%2)     #Before occurance of first 1, 0s are 0s.\n",
    "                if y%2 == 1 : \n",
    "                    count  = 1    #Find occurance of first 1, post this complement everything.\n",
    "            elif count == 1 and y%2 == 0 :\n",
    "                l.append(1)       #After occurance of first 1, 0s become 1 and 1s become 0s\n",
    "            else :\n",
    "                l.append(0)\n",
    "            y = int(y/2)\n",
    "        for _ in range(N-len(l)) :\n",
    "            print(1, end='')\n",
    "        for v in reversed(l):\n",
    "            print(v, end = '')   #Print 0s to required precision.\n",
    "    else : #Prints error message for numbers having bits not in range\n",
    "        print(\"x needs more than N bits to be represented fully.\")\n",
    "    print()\n",
    "            "
   ]
  },
  {
   "cell_type": "markdown",
   "id": "b1603b61",
   "metadata": {},
   "source": [
    "The overall time complexity of the above algorithm is O(log (x) + N) which seems to be a pretty good complexity. Thus, I have chosen to implement the above function. The gist of the function is as follows : We first check if the number is positive or negative -\n",
    "- If x is positive, we recursively compute the remainder, append it to a list and divide by 2 until the number is less than 1. This will give the binary representation in reverse order. Now for N- len(list) times I need to insert 0s in the begining and then print out the binary representation. \n",
    "- If x is negative, I will take the absolute value and carry out the same. However here I will check for the instance of the first 1 in the list what I obtain (this is in reverse order of binary represetation), I will keep 0s as it is and the first 1 as it is and then complement every bit after reaching first 1. This is how we obtain the two's complement of a number. Similarly we print out the number to N bits.\n",
    "\n",
    "**Assumption - I have considered N to be always big enough to fit x in the above cases. In the code however, I have added a check too. The condition for x to be fitted in N bits is -2^(N-1) <= x < 2^(N-1) as we are using signed two's complement representation.**"
   ]
  },
  {
   "cell_type": "code",
   "execution_count": 11,
   "id": "d30a2870",
   "metadata": {},
   "outputs": [
    {
     "name": "stdout",
     "output_type": "stream",
     "text": [
      "0000000000001010\n",
      "1111111111110110\n",
      "11101100\n"
     ]
    }
   ],
   "source": [
    "twosc(10)\n",
    "twosc(-10)\n",
    "twosc(-20, 8)"
   ]
  },
  {
   "cell_type": "markdown",
   "id": "9595a39f",
   "metadata": {},
   "source": [
    "The above box is just a box to check whether the code works fine or not."
   ]
  },
  {
   "cell_type": "markdown",
   "id": "d9845f63",
   "metadata": {},
   "source": [
    "# List comprehensions and decorators"
   ]
  },
  {
   "cell_type": "code",
   "execution_count": 12,
   "id": "9f573a70-d7f0-4496-926f-34b7cff5492f",
   "metadata": {},
   "outputs": [
    {
     "data": {
      "text/plain": [
       "[0, 4, 16, 36, 64]"
      ]
     },
     "execution_count": 12,
     "metadata": {},
     "output_type": "execute_result"
    }
   ],
   "source": [
    "[x*x for x in range(10) if x%2 == 0]"
   ]
  },
  {
   "cell_type": "markdown",
   "id": "07732969",
   "metadata": {},
   "source": [
    "### Explanation for the output\n",
    "Python being a very versatile language converts data types on the fly. The above code block essentially tells the computer to store the square of even numbers in range 1 to 10 in a list.\n",
    "\n",
    "### How did we deduce this ? \n",
    "x * x denotes the normal squaring operation. The for x in range (10) tells us that for all x in 1 to 10, store x * x in a list if x%2 is zero, implying that it is even.  "
   ]
  },
  {
   "cell_type": "code",
   "execution_count": 13,
   "id": "d34ddb81-5caf-40a7-ac1f-43ce08d64220",
   "metadata": {},
   "outputs": [
    {
     "data": {
      "text/plain": [
       "[1, 2, 3, 4, 5, 6, 7, 8, 9]"
      ]
     },
     "execution_count": 13,
     "metadata": {},
     "output_type": "execute_result"
    }
   ],
   "source": [
    "matrix = [[1,2,3], [4,5,6], [7,8,9]]\n",
    "[v for row in matrix for v in row]"
   ]
  },
  {
   "cell_type": "markdown",
   "id": "c94696d1",
   "metadata": {},
   "source": [
    "### Explanation for the output\n",
    "\n",
    "The row in matrix tells us that for each row in the matrix, i.e. [1,2,3], [4,5,6], and [7,8,9], \n",
    "iterate over all v in that row and put them in a list. \n",
    "\n",
    "The crux of this code block is that you store every $a_{ij}$ of matrix in a list starting from (1,1) (1,2) ... (3,3) elements of the matrix."
   ]
  },
  {
   "cell_type": "code",
   "execution_count": 14,
   "id": "e7349601-a068-4d91-bc0f-bcc755c4b215",
   "metadata": {},
   "outputs": [],
   "source": [
    "def is_prime(x):  #is_prime(x) will return True if a number is prime or False otherwise\n",
    "    if x <= 0 :\n",
    "        return False\n",
    "    if x == 1:\n",
    "        return False\n",
    "    for i in range (2, x):\n",
    "        if x%i == 0 :\n",
    "            return False \n",
    "    return True"
   ]
  },
  {
   "cell_type": "markdown",
   "id": "99c4a05d",
   "metadata": {},
   "source": [
    "### Reason for choosing the above approach\n",
    "Since we were told to use only available basic functions in the Python Library, I have come up with a O(n) algorithm that scans through all the elements (2,3,4...x-1) checks if any of the numbers divides x or not and then decides whether x is prime or not. "
   ]
  },
  {
   "cell_type": "code",
   "execution_count": 15,
   "id": "f3df16ab",
   "metadata": {},
   "outputs": [
    {
     "name": "stdout",
     "output_type": "stream",
     "text": [
      "2 3 5 7 11 13 17 19 23 29 31 37 41 43 47 53 59 61 67 71 73 79 83 89 97 "
     ]
    }
   ],
   "source": [
    "for k in range(1, 101): #Prints prime numbers from 1 to 100 on a line\n",
    "    if(is_prime(k)) : #Checks if number is prime and then prints it\n",
    "        print (k, end = '')\n",
    "        print (\" \", end = '')"
   ]
  },
  {
   "cell_type": "markdown",
   "id": "55e13ab1",
   "metadata": {},
   "source": [
    "We are just iterating over the numbers from 1 to 100 and printing out all the primes from 1 to 100 on a same line using the documentation of python as explained earlier. "
   ]
  },
  {
   "cell_type": "markdown",
   "id": "b9371b3e",
   "metadata": {},
   "source": [
    "## Alternate Approach (Use of Numpy)"
   ]
  },
  {
   "cell_type": "code",
   "execution_count": 16,
   "id": "33e1f213",
   "metadata": {},
   "outputs": [],
   "source": [
    "from numpy import sqrt\n",
    "def is_primeagain(x):\n",
    "    if x <=0 :\n",
    "        return False\n",
    "    if x == 1:\n",
    "        return False\n",
    "    for i in range (2, int(sqrt(x))+1): #This is permitted only if numpy is imported \n",
    "        if x%i == 0 :\n",
    "            return False \n",
    "    return True"
   ]
  },
  {
   "cell_type": "code",
   "execution_count": 17,
   "id": "eadfd073",
   "metadata": {},
   "outputs": [
    {
     "data": {
      "text/plain": [
       "False"
      ]
     },
     "execution_count": 17,
     "metadata": {},
     "output_type": "execute_result"
    }
   ],
   "source": [
    "is_primeagain(4)"
   ]
  },
  {
   "cell_type": "markdown",
   "id": "b16b5a59",
   "metadata": {},
   "source": [
    "### This cell has been added \n",
    "The purpose of this cell is to convey the message that a faster algorithm exists for finding whether a number is prime or not. The complexity of the above algorithm is O($\\sqrt{n}$) as against O(n) as described earlier. However in getting this, we employ the sqrt function in math library of python. \n",
    "\n",
    "### Intuition behind the algorithm\n",
    "We know a number is prime iff its divisors are only 1 and itself. To check this, we only need to check if (2,3,4... $\\sqrt{N}$) divide N or not. In case a number divides, we are done, its not prime. If any number does not satisfy also we are done as proved qualitatively here. Suppose you get two divisors of N, both greater than $\\sqrt{N}$, then by definition, the product of the divisors must be N. However, it is quite clear that the product exceeds N and thus, if any divisor exists, it exists in (2, $\\sqrt{N}$)"
   ]
  },
  {
   "cell_type": "code",
   "execution_count": 5,
   "id": "3dd1087b-f384-41a2-88d8-6788336d2291",
   "metadata": {},
   "outputs": [
    {
     "name": "stdout",
     "output_type": "stream",
     "text": [
      "Hello happy flappy world\n"
     ]
    }
   ],
   "source": [
    "def f1(x):\n",
    "    return \"happy \" + x\n",
    "def f2(f):\n",
    "    def wrapper(*args, **kwargs):  #Functional programming in python\n",
    "        return \"Hello \" + f(*args, **kwargs) + \" world\"\n",
    "    return wrapper\n",
    "f3 = f2(f1)\n",
    "print(f3(\"flappy\"))"
   ]
  },
  {
   "cell_type": "markdown",
   "id": "4c73c7d0",
   "metadata": {},
   "source": [
    "### Explanation\n",
    "- * args - Represents the fact that the programmer does not know how many arguments are going to be passed. Also termed as arbitrary arguments.\n",
    "- ** kwargs - Represents the fact that the programmer does not know how many key words are going to be passed. Also termed as arbitrary key word argument. \n",
    "Python uses a dictionary to implement the kwargs functionality. Python allows functional programming, that is we can pass functions as parameters to a function and also return functions. \n",
    "\n",
    "In this cell, we define a function f1(x) and then pass it to f2(). In f2(), we define a wrapper function that concatenates the strings. The statement (\"Hello \"+ f(* args, ** kwargs) + \" world\") is equivalent to writing \"Hello \" + \"happy \" + x + \" world\". Thus when we declare f3 to be f2(f1) and pass \"flappy\", we are essentially doing the following - f2(f1(\"flappy\")), which as from above results in \"Hello happy flappy world\""
   ]
  },
  {
   "cell_type": "code",
   "execution_count": 6,
   "id": "ede870a7-6564-4930-9ff1-818f075c3e43",
   "metadata": {},
   "outputs": [
    {
     "name": "stdout",
     "output_type": "stream",
     "text": [
      "Hello nappy flappy world\n"
     ]
    }
   ],
   "source": [
    "@f2  #Use of Wrapper Functions\n",
    "def f4(x):\n",
    "    return \"nappy \" + x\n",
    "\n",
    "print(f4(\"flappy\"))"
   ]
  },
  {
   "cell_type": "markdown",
   "id": "9a969329",
   "metadata": {},
   "source": [
    "### Explanation - Decorators in Python\n",
    "- The wrapper function or the decorators in Python take in a function and give out a function. \n",
    "- These aspects of Object Oriented Programming make Python a very unique, versatile and robust programming language. The wrapper functions promote data encapsulation. This form of functional programming is used to validate input data in many applications. \n",
    "\n",
    "Here, we first tell the interpreter that we are wrapping the function f2() around f4() by using @ . So, f4 is the function that is passed on as parameter to function f2. The difference being here that we would not need to call f2. Since it sets the value of f2, it is automatically called. So, the first three lines of code in the block essentially translates to f2(f4(x)) which is \"Happy \" + \"nappy \" + x + \"world\" which is \"Happy nappy \" + x + \"world\". Thus when we call f4(\"flappy\") the output is \"Happy nappy flappy world\" as it should be from the explanation given above. "
   ]
  },
  {
   "cell_type": "markdown",
   "id": "de144cc1-a06a-4e96-8017-7887296dddc0",
   "metadata": {},
   "source": [
    "# File IO"
   ]
  },
  {
   "cell_type": "code",
   "execution_count": 20,
   "id": "09e62f52-fec6-4026-a4d8-ca4b87b19732",
   "metadata": {},
   "outputs": [],
   "source": [
    "def write_primes(N, filename):\n",
    "    f = open(filename, \"w\")   #Opens the file passed as parameter. \n",
    "    for i in range (1, N+1) :\n",
    "        if is_prime(i) :   #Prints the prime numbers on separate lines in the mentioned file.\n",
    "            f.write(str(i)+'\\n')\n",
    "    f.close() #We close the file after the operation is complete"
   ]
  },
  {
   "cell_type": "markdown",
   "id": "023a7d7b",
   "metadata": {},
   "source": [
    "### Description of the code\n",
    "We open the file in which we write the primes in. Firstly, it is assumed that the file is blank. In case it is not and contains some other details which must not be erased (since opening file in \"w\" mode erases everything) we can open in append (\"a\") mode. We then iterate over all the numbers from 1 to N and print out the primes in the given file."
   ]
  },
  {
   "cell_type": "code",
   "execution_count": 21,
   "id": "a792582c",
   "metadata": {},
   "outputs": [],
   "source": [
    "write_primes(100, 'prime.txt') #Call the function to print"
   ]
  },
  {
   "cell_type": "markdown",
   "id": "d7201bf3",
   "metadata": {},
   "source": [
    "### This cell has been added\n",
    "This has been added so as to generate a text file composed of primes in the range 1 to 100. This serves as a check as to whether our function is written correctly as we have already determined the primes in 1 to 100."
   ]
  },
  {
   "cell_type": "markdown",
   "id": "9b2de5cb-13c3-4804-9576-e7bb6fd3a371",
   "metadata": {},
   "source": [
    "# Exceptions"
   ]
  },
  {
   "cell_type": "code",
   "execution_count": 22,
   "id": "e414cb82",
   "metadata": {},
   "outputs": [
    {
     "name": "stdout",
     "output_type": "stream",
     "text": [
      "Enter a number: 7\n",
      "True\n"
     ]
    }
   ],
   "source": [
    "def check_prime(x):\n",
    "    try :\n",
    "        y = int(x) #Checks if x is int, else throws exception\n",
    "        print(is_prime(y))\n",
    "    except ValueError:\n",
    "        print(\"Enter an integer\")\n",
    "x = input('Enter a number: ') #When input is taken, x is always in str. \n",
    "check_prime(x)"
   ]
  },
  {
   "cell_type": "markdown",
   "id": "d99d13c5",
   "metadata": {},
   "source": [
    "### Error Handling in Python\n",
    "We use the try-except method of exception handling in Python. We first try to figure out any error that could take place in the try block and appropriately act depending on the type of exception raised using the except block. In the instance of an Exception (more technically, ValueError in this case), the except block exits with the statement \"Enter an integer\". However, if the input is a valid integer, we then proceed to check if it is a prime number or not. "
   ]
  }
 ],
 "metadata": {
  "authors": [
   {
    "name": "Nitin Chandrachoodan <nitin@ee.iitm.ac.in>"
   }
  ],
  "kernelspec": {
   "display_name": "Python 3 (ipykernel)",
   "language": "python",
   "name": "python3"
  },
  "language_info": {
   "codemirror_mode": {
    "name": "ipython",
    "version": 3
   },
   "file_extension": ".py",
   "mimetype": "text/x-python",
   "name": "python",
   "nbconvert_exporter": "python",
   "pygments_lexer": "ipython3",
   "version": "3.8.10"
  },
  "title": "EE2703 - Week 1",
  "toc-autonumbering": true,
  "vscode": {
   "interpreter": {
    "hash": "b0fa6594d8f4cbf19f97940f81e996739fb7646882a419484c72d19e05852a7e"
   }
  }
 },
 "nbformat": 4,
 "nbformat_minor": 5
}
