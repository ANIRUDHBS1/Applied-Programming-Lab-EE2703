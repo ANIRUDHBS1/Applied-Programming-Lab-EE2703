{
 "cells": [
  {
   "cell_type": "markdown",
   "id": "342fc508",
   "metadata": {},
   "source": [
    "<center>\n",
    "\n",
    "# EE2703 - Assignment 2\n",
    "\n",
    "## Name : ANIRUDH B S\n",
    "## Roll No : EE21B019\n",
    "</center>"
   ]
  },
  {
   "cell_type": "markdown",
   "id": "5b45ec84",
   "metadata": {},
   "source": [
    "# Assignment\n",
    "\n",
    "The following are the problems you need to solve for this assignment.  You need to submit your code (either as standalone Python script or a Python notebook), a PDF document explaining your solution (either generated from the notebook or a separate LaTeX document), and any supporting files you may have (such as circuit netlists you used for testing your code).\n",
    "\n",
    "- Write a function to find the factorial of N (N being an input) and find the time taken to compute it.  This will obviously depend on where you run the code and which approach you use to implement the factorial.  Explain your observations briefly.\n",
    "- Write a linear equation solver that will take in matrices $A$ and $b$ as inputs, and return the vector $x$ that solves the equation $Ax=b$.  Your function should catch errors in the inputs and return suitable error messages for different possible problems.\n",
    "  - Time your solver to solve a random $10\\times 10$ system of equations.  Compare the time taken against the `numpy.linalg.solve` function for the same inputs.\n",
    "- Given a circuit netlist in the form described above, read it in from a file, construct the appropriate matrices, and use the solver you have written above to obtain the voltages and currents in the circuit.  If you find AC circuits hard to handle, first do this for pure DC circuits, but you should be able to handle both voltage and current sources.\n",
    "\n",
    "## Bonus assignments\n",
    "\n",
    "- (Small bonus): after reading in the netlist, allow some or all sources and impedances to be controlled interactively - either using widgets or other mechanisms.  On each change you should recompute the currents and voltages and display them.\n",
    "- (Large bonus): make a solver that can do real-time transient simulations of a SPICE netlist and update the currents and voltages dynamically.  They should also be plotted as a function of time and react to changes.  This is something along the lines of https://www.falstad.com/circuit/.  Ideally you should be able to do a real-time demo of some experiments you might conduct as part of a basic electronics lab, and simulate the behaviour of an oscilloscope and signal generator."
   ]
  },
  {
   "cell_type": "markdown",
   "id": "172f2bb0",
   "metadata": {},
   "source": [
    "# The Solution :-\n",
    "**This assignment consists of codes and documentation for the basic codes on factorial, Gaussian Elimination and Netlist Extractor cum Cirucit Solver. Not to forget, the code for small bonus is included in the Circuit Solver. Another file will be uploaded for the large bonus as instructed in class. !!**"
   ]
  },
  {
   "cell_type": "markdown",
   "id": "758a2fda",
   "metadata": {},
   "source": [
    "### Factorial of a Number\n",
    "Firstly let us use the iterative approach to find the factorial of a number N :"
   ]
  },
  {
   "cell_type": "code",
   "execution_count": 1,
   "id": "9f02a361",
   "metadata": {},
   "outputs": [
    {
     "name": "stdout",
     "output_type": "stream",
     "text": [
      "769 ns ± 17.8 ns per loop (mean ± std. dev. of 7 runs, 1,000,000 loops each)\n"
     ]
    }
   ],
   "source": [
    "def factorial(N): #Returns factorial\n",
    "    if type(N) is not int : #Checks type of input\n",
    "        print(\"Factorial not defined for non integers\")\n",
    "    else :\n",
    "        if N >= 0 :\n",
    "            if N == 0 : #Corner case of N being equal to zero.\n",
    "                return 1\n",
    "            prod = 1\n",
    "            for i in range (1, N+1) : #For each number i in 1,...N, we multiply i with the running product and store it\n",
    "                prod = prod * i\n",
    "            return prod\n",
    "        else :\n",
    "            print(\"Factorial not defined for negative integers\")\n",
    "%timeit factorial(7)"
   ]
  },
  {
   "cell_type": "code",
   "execution_count": 2,
   "id": "5b7db209",
   "metadata": {},
   "outputs": [
    {
     "data": {
      "text/plain": [
       "5040"
      ]
     },
     "execution_count": 2,
     "metadata": {},
     "output_type": "execute_result"
    }
   ],
   "source": [
    "factorial(7)"
   ]
  },
  {
   "cell_type": "markdown",
   "id": "40b53e25",
   "metadata": {},
   "source": [
    "### Reason for iterative approach\n",
    "The iterative approach of factorial computation takes O(n) time on an average. As n becomes larger and larger, it takes more and more time. However, this method of computation of factorial is quite fast for smaller numbers. The relevant checks such as factorials not being defined for fractions or negative numbers have been put in place."
   ]
  },
  {
   "cell_type": "markdown",
   "id": "0237c429",
   "metadata": {},
   "source": [
    "Now, let us see what happens if we use the recursive definition of a factorial."
   ]
  },
  {
   "cell_type": "code",
   "execution_count": 3,
   "id": "ac283a5f",
   "metadata": {},
   "outputs": [
    {
     "name": "stdout",
     "output_type": "stream",
     "text": [
      "1.77 µs ± 69.1 ns per loop (mean ± std. dev. of 7 runs, 1,000,000 loops each)\n"
     ]
    }
   ],
   "source": [
    "def factorialrecurse(N): #Returns factorial\n",
    "    if type(N) is int : #Integer check\n",
    "        if N>=0 :\n",
    "            if N==0 or N == 1: #Basic corner case of N ==0 or N==1\n",
    "                return 1\n",
    "            return N * factorialrecurse(N-1) #Use of recursion to return factorial of N-1\n",
    "        else :\n",
    "            print(\"Negative factorials do not exist!\")\n",
    "    else :\n",
    "        print(\"Factorials not defined for non integers.\")\n",
    "%timeit factorialrecurse(7)"
   ]
  },
  {
   "cell_type": "code",
   "execution_count": 4,
   "id": "229b6ae1",
   "metadata": {},
   "outputs": [
    {
     "data": {
      "text/plain": [
       "5040"
      ]
     },
     "execution_count": 4,
     "metadata": {},
     "output_type": "execute_result"
    }
   ],
   "source": [
    "factorialrecurse(7)"
   ]
  },
  {
   "cell_type": "markdown",
   "id": "ddafced9",
   "metadata": {},
   "source": [
    "### Reason for recursive approach\n",
    "The recursive approach of factorial computation takes O(n) time on an average. As n becomes larger and larger, it takes more and more time. However, this method of computation of factorial is quite fast for smaller numbers. The relevant checks for integers have been put in place. The recursive method is often used by proficient programmers to show their skillset to the world as it is an elegant approach to solve problems.\n",
    "\n",
    "As is the main aim of recursion, to get the output by repeatedly calling the same function many times, here also the recursive definition of factorial works !"
   ]
  },
  {
   "cell_type": "markdown",
   "id": "b57ea5f2",
   "metadata": {},
   "source": [
    "### Observations"
   ]
  },
  {
   "cell_type": "markdown",
   "id": "8dfbed91",
   "metadata": {},
   "source": [
    "<html>\n",
    "    <body>\n",
    "        <ol>\n",
    "            <li> The computer executes the code in nanoseconds, indicating the processor frequency is in Giga Hertz. My processor runs at 2.30 GHz. (Data taken from system settings )\n",
    "            <li> It appears that the recursive approach takes slightly more time compared to the iterative approach. \n",
    "            <li> As already mentioned in the presentation, the time taken depends entirely on the processor and the time when you are running the code. The output time taken is a function of many external parameters that are beyond our control. When I run the code today, the output may be different from what time output I got yesterday. However, the key take away remains that our processor is able to execute code in nanoseconds.\n",
    "        </ol>\n",
    "   </body>\n",
    "</html>"
   ]
  },
  {
   "cell_type": "markdown",
   "id": "e0d9efcc",
   "metadata": {},
   "source": [
    "<html>\n",
    "   <body>\n",
    "      <table>\n",
    "         <tr> \n",
    "            <th> Run </th>\n",
    "            <th> Factorial Iterative (in us) </th>\n",
    "            <th> Factorial Recursive (in us) </th>\n",
    "         </tr>\n",
    "         <tr>\n",
    "             <th> 1 </th>\n",
    "             <th> 0.852 </th>\n",
    "             <th> 1.8 </th>\n",
    "         </tr>\n",
    "         <tr>\n",
    "             <th> 2 </th>\n",
    "             <th> 0.729 </th>\n",
    "             <th> 0.716 </th>\n",
    "         </tr>\n",
    "         <tr>\n",
    "             <th> 3 </th>\n",
    "             <th> 0.795 </th>\n",
    "             <th> 0.540 </th>\n",
    "         </tr>\n",
    "     </table>\n",
    "    </body>\n",
    "</html>"
   ]
  },
  {
   "cell_type": "markdown",
   "id": "febbfff9",
   "metadata": {},
   "source": [
    "### Gaussian Elimination"
   ]
  },
  {
   "cell_type": "code",
   "execution_count": 5,
   "id": "a9b99b08",
   "metadata": {},
   "outputs": [],
   "source": [
    "import sys #To exit from terminal incase of inconsistency\n",
    "import numpy as np"
   ]
  },
  {
   "cell_type": "code",
   "execution_count": 6,
   "id": "06cfeb1f",
   "metadata": {},
   "outputs": [],
   "source": [
    "A1 = np.array([[1, 0, 0], [0, 1, 0], [0,0, 1]])\n",
    "B1 = np.array([[1], [2], [3]])"
   ]
  },
  {
   "cell_type": "code",
   "execution_count": 7,
   "id": "431df50d",
   "metadata": {},
   "outputs": [],
   "source": [
    "def GaussianElimination(A,b): #Solves a system of linear equations given matrices A and b using Gaussian Elimination with parital pivoting (swapping of rows included)\n",
    "    n = A.shape[0]\n",
    "    m = A.shape[1]\n",
    "    if m!=n :\n",
    "        sys.exit(\"Inconsistent Equation\")\n",
    "    aug = np.zeros((n,n+1), dtype = np.complex128)\n",
    "    x = np.zeros(n, dtype = np.complex128)   #Solution is initialised to zeros\n",
    "    aug = np.c_[A,b]  #Function to create the augumented matrix [A|b] by concatenating A and b column wise\n",
    "    try :\n",
    "        for i in range(n-1):\n",
    "            if aug[i][i] == 0: #Checks if pivot is zero\n",
    "                for l in range(i+1, n):\n",
    "                    if abs(aug[l][i]) > abs(aug[i][i]):\n",
    "                        aug[[i,l]] = aug[[l,i]]  #Swaps two rows of the augmented matrix\n",
    "            for j in range (i+1,n):\n",
    "                if aug[i][i] == 0 :\n",
    "                    raise ZeroDivisionError(\"Singular Matrix\") #Raises exception\n",
    "                else :\n",
    "                    r = aug[j][i]/aug[i][i] #Find the ratio for each row\n",
    "                for k in range(i,n+1):\n",
    "                    aug[j][k] = aug[j][k] - r*aug[i][k] #Convert matrix to Row Echelon Matrix\n",
    "        if aug[n-1][n-1] == 0:\n",
    "            raise ZeroDivisionError(\"Singular Matrix\") #Raises exception\n",
    "        else :\n",
    "            x[n-1] = aug[n-1][n]/aug[n-1][n-1] #Start of Back Substitution\n",
    "        for i in range(n-2,-1,-1):\n",
    "            x[i] = aug[i][n] \n",
    "            for j in range(i+1,n):\n",
    "                x[i] = x[i] - aug[i][j]*x[j] #Back Substitution\n",
    "            try :\n",
    "                x[i] = x[i]/aug[i][i]\n",
    "            except :\n",
    "                print(\"Singular Matrix\")\n",
    "        return x\n",
    "    except ZeroDivisionError:\n",
    "        print(\"Singular Matrix\")"
   ]
  },
  {
   "cell_type": "markdown",
   "id": "1555ebcd",
   "metadata": {},
   "source": [
    "### There are two Gaussian Elimination Codes !\n",
    "- The above Gaussian Elimination code handles complex entries as well which shall be needed for circuit analysis.\n",
    "- The below Gaussian Elimination works only on real entries, which are used to solve Matrix equations the same way it is done in a Linear Algebra course at school.\n",
    "\n",
    "The only motivation to keep two codes separately is to highlight the difference that by just changing dtype argumnet in np.zeros() we can convert a matrix from purely real to a matrix that handles complex operations as well !"
   ]
  },
  {
   "cell_type": "code",
   "execution_count": 8,
   "id": "16b02ffa",
   "metadata": {},
   "outputs": [],
   "source": [
    "def GaussianEliminationReal(A,b): #Solves a system of linear equations given matrices A and b using Gaussian Elimination with parital pivoting (swapping of rows included)\n",
    "    n = A.shape[0]\n",
    "    m = A.shape[1]\n",
    "    if m!=n :\n",
    "        sys.exit(\"Inconsistent Equation\")\n",
    "    aug = np.zeros((n,n+1))\n",
    "    x = np.zeros(n)   #Solution is initialised to zeros\n",
    "    aug = np.c_[A,b]  #Function to create the augumented matrix [A|b] by concatenating A and b column wise\n",
    "    try :\n",
    "        for i in range(n-1):\n",
    "            if aug[i][i] == 0: #Checks if pivot is zero\n",
    "                for l in range(i+1, n):\n",
    "                    if abs(aug[l][i]) > abs(aug[i][i]):\n",
    "                        aug[[i,l]] = aug[[l,i]]  #Swaps two rows of the augmented matrix\n",
    "            for j in range (i+1,n):\n",
    "                if aug[i][i] == 0 :\n",
    "                    raise ZeroDivisionError(\"Singular Matrix\") #Raises exception\n",
    "                else :\n",
    "                    r = aug[j][i]/aug[i][i] #Find the ratio for each row\n",
    "                for k in range(i,n+1):\n",
    "                    aug[j][k] = aug[j][k] - r*aug[i][k] #Convert matrix to Row Echelon Matrix\n",
    "        if aug[n-1][n-1] == 0:\n",
    "            raise ZeroDivisionError(\"Singular Matrix\") #Raises exception\n",
    "        else :\n",
    "            x[n-1] = aug[n-1][n]/aug[n-1][n-1] #Start of Back Substitution\n",
    "        for i in range(n-2,-1,-1):\n",
    "            x[i] = aug[i][n] \n",
    "            for j in range(i+1,n):\n",
    "                x[i] = x[i] - aug[i][j]*x[j] #Back Substitution\n",
    "            try :\n",
    "                x[i] = x[i]/aug[i][i]\n",
    "            except :\n",
    "                print(\"Singular Matrix\")\n",
    "        return x\n",
    "    except ZeroDivisionError:\n",
    "        print(\"Singular Matrix\")"
   ]
  },
  {
   "cell_type": "markdown",
   "id": "00539f2f",
   "metadata": {},
   "source": [
    "### Reason for this implementation of Gaussian Elimination\n",
    "The above code works on the principle of Gaussian Elimination with partial pivoting. For reference, I have used : https://web.mit.edu/10.001/Web/Course_Notes/GaussElimPivoting.html#:~:text=Gaussian%20Elimination%20with%20Partial%20Pivoting&text=This%20entry%20is%20called%20the,is%20in%20the%20first%20row.&text=Pivoting%20helps%20reduce%20rounding%20errors,(or%20very%20large)%20numbers.\n",
    "\n",
    "The gist of the code is simple : We iterate over the columns and check if any diagonal element is zero, if it is, then we swap that row with the row having maximum element. Later on we check if even after swapping there is any diagonal element that is zero, if YES, then the matrix is singular with infinitely many or zero solutions, if NO, then we proceed to compute the unique solution to the system of equations. We use forward elimination to convert A|b to an upper triangular matrix and then use backward substitution to extract the answer."
   ]
  },
  {
   "cell_type": "code",
   "execution_count": 9,
   "id": "cf7fe50b",
   "metadata": {},
   "outputs": [
    {
     "name": "stdout",
     "output_type": "stream",
     "text": [
      "[1. 2. 3.]\n"
     ]
    }
   ],
   "source": [
    "x = GaussianEliminationReal(A1, B1)\n",
    "print(x)"
   ]
  },
  {
   "cell_type": "code",
   "execution_count": 10,
   "id": "1534bbb1",
   "metadata": {},
   "outputs": [],
   "source": [
    "def npsolve(A,b):\n",
    "    try :\n",
    "        x = np.linalg.solve(A,b)\n",
    "        return x\n",
    "    except :\n",
    "        print(\"Singular Matrix\")"
   ]
  },
  {
   "cell_type": "code",
   "execution_count": 11,
   "id": "c5b6ef65",
   "metadata": {},
   "outputs": [
    {
     "name": "stdout",
     "output_type": "stream",
     "text": [
      "[[1.]\n",
      " [2.]\n",
      " [3.]]\n"
     ]
    }
   ],
   "source": [
    "x = npsolve(A1,B1)\n",
    "print(x)"
   ]
  },
  {
   "cell_type": "code",
   "execution_count": 13,
   "id": "2f7d3e7e",
   "metadata": {},
   "outputs": [],
   "source": [
    "A2 = np.random.random((10,10))\n",
    "B2 = np.random.random((10,1))"
   ]
  },
  {
   "cell_type": "code",
   "execution_count": 14,
   "id": "e365a854",
   "metadata": {},
   "outputs": [
    {
     "name": "stdout",
     "output_type": "stream",
     "text": [
      "504 µs ± 19.7 µs per loop (mean ± std. dev. of 7 runs, 1,000 loops each)\n"
     ]
    }
   ],
   "source": [
    "%timeit GaussianElimination(A2, B2)"
   ]
  },
  {
   "cell_type": "code",
   "execution_count": 15,
   "id": "f2f95e37",
   "metadata": {},
   "outputs": [
    {
     "name": "stdout",
     "output_type": "stream",
     "text": [
      "9.5 µs ± 101 ns per loop (mean ± std. dev. of 7 runs, 100,000 loops each)\n"
     ]
    }
   ],
   "source": [
    "%timeit npsolve(A2, B2)"
   ]
  },
  {
   "cell_type": "code",
   "execution_count": 16,
   "id": "41790c10",
   "metadata": {},
   "outputs": [
    {
     "data": {
      "text/plain": [
       "array([ -5.56872446, -10.33446227,  -3.37351366,   4.40729287,\n",
       "        12.91345244,  -1.6702017 ,   9.8581886 ,   2.66133085,\n",
       "        -8.17100885,  -2.29420852])"
      ]
     },
     "execution_count": 16,
     "metadata": {},
     "output_type": "execute_result"
    }
   ],
   "source": [
    "GaussianEliminationReal(A2, B2)"
   ]
  },
  {
   "cell_type": "code",
   "execution_count": 17,
   "id": "207038eb",
   "metadata": {},
   "outputs": [
    {
     "data": {
      "text/plain": [
       "array([[ -5.56872446],\n",
       "       [-10.33446227],\n",
       "       [ -3.37351366],\n",
       "       [  4.40729287],\n",
       "       [ 12.91345244],\n",
       "       [ -1.6702017 ],\n",
       "       [  9.8581886 ],\n",
       "       [  2.66133085],\n",
       "       [ -8.17100885],\n",
       "       [ -2.29420852]])"
      ]
     },
     "execution_count": 17,
     "metadata": {},
     "output_type": "execute_result"
    }
   ],
   "source": [
    "npsolve(A2, B2)"
   ]
  },
  {
   "cell_type": "code",
   "execution_count": 18,
   "id": "55105899",
   "metadata": {},
   "outputs": [
    {
     "name": "stdout",
     "output_type": "stream",
     "text": [
      "Note : Number of variables must be equal to number of equations\n",
      "Enter the number of equations3\n",
      "Enter the matrix A\n",
      "Enter 1 1 entry of A\n",
      "2\n",
      "Enter 1 2 entry of A\n",
      "2\n",
      "Enter 1 3 entry of A\n",
      "0\n",
      "Enter 2 1 entry of A\n",
      "4\n",
      "Enter 2 2 entry of A\n",
      "4\n",
      "Enter 2 3 entry of A\n",
      "0\n",
      "Enter 3 1 entry of A\n",
      "1\n",
      "Enter 3 2 entry of A\n",
      "1\n",
      "Enter 3 3 entry of A\n",
      "1\n",
      "Enter B now\n",
      "Enter 1 entry of B\n",
      "1\n",
      "Enter 2 entry of B\n",
      "2\n",
      "Enter 3 entry of B\n",
      "3\n",
      "Singular Matrix\n",
      "Singular Matrix\n",
      "None\n",
      "None\n"
     ]
    }
   ],
   "source": [
    "print(\"Note : Number of variables must be equal to number of equations\")\n",
    "m = int(input(\"Enter the number of equations\"))\n",
    "print(\"Enter the matrix A\")\n",
    "A3 = np.zeros((m,m))\n",
    "B3 = np.zeros((m,1))\n",
    "for i in range(m):\n",
    "    for j in range(m):\n",
    "        try :\n",
    "            print(f\"Enter {i+1} {j+1} entry of A\")\n",
    "            A3[i][j] = float(input())\n",
    "        except TypeError:\n",
    "            print(\"Enter a float entry in A\")\n",
    "print(\"Enter B now\")\n",
    "for i in range(m):\n",
    "    try :\n",
    "        print(f\"Enter {i+1} entry of B\")\n",
    "        B3[i] = float(input())\n",
    "    except TypeError:\n",
    "        print(\"Enter a float entry in B\")\n",
    "x = GaussianEliminationReal(A3,B3)\n",
    "y = npsolve(A3,B3)\n",
    "print (x)\n",
    "print (y)"
   ]
  },
  {
   "cell_type": "markdown",
   "id": "65c72079",
   "metadata": {},
   "source": [
    "### Comparision in timing :\n",
    "The GaussianElimination() function looks to run slower than npsolve() function that works on the standard numpy library based function of solving linear equations. However, as the dimension of the matrix increases, the GaussianElimination() is way slower than npsolve(). However, all problems that might occur have been taken care of in GaussianElimination().\n",
    "\n",
    "One major drawback of the GaussianElimination() is that it works only for consistent equations, that is, A is a square matrix with non zero determinant. It does not work for a A matrix whose dimension is m x n where m and n are distinct. This is because in such situations, we either have infinite solutions or no solutions"
   ]
  },
  {
   "cell_type": "markdown",
   "id": "66c7afa5",
   "metadata": {},
   "source": [
    "### Observation"
   ]
  },
  {
   "cell_type": "markdown",
   "id": "5168e726",
   "metadata": {},
   "source": [
    "<html>\n",
    "   <body>\n",
    "      <table>\n",
    "         <tr> \n",
    "            <th> Run </th>\n",
    "            <th> GaussianElimation (in us) </th>\n",
    "            <th> npsolve (in us) </th>\n",
    "         </tr>\n",
    "         <tr>\n",
    "             <th> 1 </th>\n",
    "             <th> 489 </th>\n",
    "             <th> 9.15 </th>\n",
    "         </tr>\n",
    "         <tr>\n",
    "             <th> 2 </th>\n",
    "             <th> 629 </th>\n",
    "             <th> 12.5 </th>\n",
    "         </tr>\n",
    "         <tr>\n",
    "             <th> 3 </th>\n",
    "             <th> 540 </th>\n",
    "             <th> 8.86 </th>\n",
    "         </tr>\n",
    "     </table>\n",
    "    </body>\n",
    "</html>"
   ]
  },
  {
   "cell_type": "markdown",
   "id": "c69eda5e",
   "metadata": {},
   "source": [
    "### Spice Netlist Extraction\n",
    "This code includes the small bonus aspects as well.\n",
    "The idea of small bonus comes from the fact that using a slider widget would enhance the interactability of the circuit solver with the user. This adds a lot of advantage in the domain of circuit analysis as we are able to see the output change upon changing the input or any impedance and thus analyse our circuit further."
   ]
  },
  {
   "cell_type": "code",
   "execution_count": 19,
   "id": "1035aba5",
   "metadata": {},
   "outputs": [],
   "source": [
    "import numpy as np\n",
    "import ipywidgets as wdg\n",
    "import sys\n",
    "import cmath"
   ]
  },
  {
   "cell_type": "markdown",
   "id": "5f04839f",
   "metadata": {},
   "source": [
    "### Assumption :\n",
    "It is assumed that all the above packages are installed. In case it is not installed, you can do a pip install package"
   ]
  },
  {
   "cell_type": "code",
   "execution_count": 20,
   "id": "391fab19",
   "metadata": {},
   "outputs": [],
   "source": [
    "class R: #Created a class for storing R objects\n",
    "    value = 0\n",
    "    nodes = ()\n",
    "    def __init__(self, n1, n2, value) :\n",
    "        self.value = value\n",
    "        self.nodes = (n1, n2)"
   ]
  },
  {
   "cell_type": "code",
   "execution_count": 21,
   "id": "9a13c2cd",
   "metadata": {},
   "outputs": [],
   "source": [
    "class C : #Defined a class for capacitor element to store it nicely\n",
    "    value = 0\n",
    "    nodes = ()\n",
    "    def __init__(self,  n1, n2, value) :\n",
    "        self.value = value\n",
    "        self.nodes = (n1, n2)"
   ]
  },
  {
   "cell_type": "code",
   "execution_count": 22,
   "id": "51a1a356",
   "metadata": {},
   "outputs": [],
   "source": [
    "class L : #Defined a class for inductor element to store it nicely\n",
    "    value = 0\n",
    "    nodes = ()\n",
    "    def __init__(self, n1, n2, value) :\n",
    "        self.value = value\n",
    "        self.nodes = (n1, n2)"
   ]
  },
  {
   "cell_type": "code",
   "execution_count": 23,
   "id": "1dd656b1",
   "metadata": {},
   "outputs": [],
   "source": [
    "class V : #Created a class for storing V objects\n",
    "    value = 0\n",
    "    nodes= ()\n",
    "    def __init__(self,  n1, n2, value) :\n",
    "        self.value = value\n",
    "        self.nodes = (n1, n2)"
   ]
  },
  {
   "cell_type": "code",
   "execution_count": 24,
   "id": "1cd77a83",
   "metadata": {},
   "outputs": [],
   "source": [
    "class I : #Created a class for storing I objects\n",
    "    value = 0\n",
    "    nodes = ()\n",
    "    def __init__(self, n1, n2, value) :\n",
    "        self.value = value\n",
    "        self.nodes = (n1, n2)"
   ]
  },
  {
   "cell_type": "markdown",
   "id": "bd45f189",
   "metadata": {},
   "source": [
    "### Why classes ?\n",
    "Classes present a way of storing elements nicely in any OOP. \n",
    "Thus, using classes to store individual elements is interesting.\n",
    "Adding to the above reason, given the expected length of the code, using classes and functions make the working of the code more intuitive and obvious and also provide modularity details to the reader of this code."
   ]
  },
  {
   "cell_type": "code",
   "execution_count": 25,
   "id": "59eaa1ed",
   "metadata": {},
   "outputs": [],
   "source": [
    "def findckt(lines) : #Created a function to find .circuit in netlist\n",
    "    for line in lines : \n",
    "        if line == \".circuit\" or line == \".circuit\\n\" :\n",
    "            return lines.index(line)\n",
    "    return -1"
   ]
  },
  {
   "cell_type": "code",
   "execution_count": 26,
   "id": "d7fc8d38",
   "metadata": {},
   "outputs": [],
   "source": [
    "def findend(lines) : #created a function to find .end in netlist\n",
    "    for line in lines :\n",
    "        if line == \".end\" or line == \".end\\n\" :\n",
    "            return lines.index(line)\n",
    "    return -1"
   ]
  },
  {
   "cell_type": "markdown",
   "id": "f741de3d",
   "metadata": {},
   "source": [
    "### Use of findckt and findend\n",
    "The above mentioned functions essentially find .circuit and .end in the circuit. Additionally, a further check has been added later in the main() so that the netlist contains EXACTLY ONE .circuit and .end"
   ]
  },
  {
   "cell_type": "code",
   "execution_count": 27,
   "id": "6a32eaf4",
   "metadata": {},
   "outputs": [],
   "source": [
    "def getMR (M, nodes, value) : #Created a function to change M after considering resistances\n",
    "    n1, n2 = nodes\n",
    "    M[n1][n1] += 1/value \n",
    "    M[n1][n2] -= 1/value\n",
    "    M[n2][n1] -= 1/value\n",
    "    M[n2][n2] += 1/value"
   ]
  },
  {
   "cell_type": "code",
   "execution_count": 28,
   "id": "9546a4a4",
   "metadata": {},
   "outputs": [],
   "source": [
    "def getMC(nodes, M, frequency, value):#Given a capacitor updates matrix M\n",
    "    n1, n2 = nodes\n",
    "    M[n1][n1] += complex(0,2*np.pi*frequency*value)\n",
    "    M[n1][n2] -= complex(0,2*np.pi*frequency*value)\n",
    "    M[n2][n1] -= complex(0,2*np.pi*frequency*value)\n",
    "    M[n2][n2] += complex(0,2*np.pi*frequency*value)"
   ]
  },
  {
   "cell_type": "code",
   "execution_count": 29,
   "id": "de96155b",
   "metadata": {},
   "outputs": [],
   "source": [
    "def getML(nodes, M, frequency, value): #Given a inductor, updates the matrix M\n",
    "    n1, n2 = nodes\n",
    "    try :\n",
    "        M[n1][n1] += complex(0,1/(2*np.pi*frequency*value))\n",
    "        M[n1][n2] -= complex(0,1/(2*np.pi*frequency*value))\n",
    "        M[n2][n1] -= complex(0,1/(2*np.pi*frequency*value))\n",
    "        M[n2][n2] += complex(0,1/(2*np.pi*frequency*value))\n",
    "    except ZeroDivisionError :\n",
    "        M[n1][n1] += 1\n",
    "        M[n1][n2] -= 1\n",
    "        M[n2][n1] -= 1\n",
    "        M[n2][n2] += 1"
   ]
  },
  {
   "cell_type": "code",
   "execution_count": 30,
   "id": "9e42abc4",
   "metadata": {},
   "outputs": [],
   "source": [
    "def getMV (M, b, nodes, value, n, idx):#Created a function to change M after considering voltage sources\n",
    "    n1, n2 = nodes\n",
    "    M[n1][n+idx] += 1\n",
    "    M[n+idx][n1] += 1\n",
    "    M[n+idx][n2] -= 1\n",
    "    M[n2][n+idx] -= 1\n",
    "    b[n+idx] = value"
   ]
  },
  {
   "cell_type": "code",
   "execution_count": 31,
   "id": "e3851e25",
   "metadata": {},
   "outputs": [],
   "source": [
    "def getMI (b, nodes, value) : #Created a function to change M after considering current sources\n",
    "    n1, n2 = nodes\n",
    "    b[n1] += value\n",
    "    b[n2] -= value"
   ]
  },
  {
   "cell_type": "markdown",
   "id": "4a7a734a",
   "metadata": {},
   "source": [
    "### Reasons for adopting an OOP based approach\n",
    "I have adopted a classical OOP form of approaching this problem by creating classes and respective objects and storing them. This is because this would make my code look neater and more presentable. Moreover, it is quite intuitive from the name of the function or class itself the function it is meant to serve. Thus, the OOP form provides an edge over all other possible forms of approaching the given problem."
   ]
  },
  {
   "cell_type": "code",
   "execution_count": 32,
   "id": "52b67944",
   "metadata": {},
   "outputs": [],
   "source": [
    "n = 0 #Number of nodes in circuit\n",
    "k = 0 #Number of independent voltage sources in circuit\n",
    "r = [] #Stores list of resistance objects\n",
    "v = [] #Stores list of voltage sources objects\n",
    "cur = [] #Stores list of current source objects\n",
    "c = [] #Stores list of capacitor objects\n",
    "ll = [] #Stores list of inductor objects\n",
    "nodes = {} #Stores dictionary mapping of nodes"
   ]
  },
  {
   "cell_type": "code",
   "execution_count": 33,
   "id": "03e33619",
   "metadata": {},
   "outputs": [],
   "source": [
    "w = set() #Stores set of distinct frequencies\n",
    "frequency  = 0 #Stores last entered frequency of source\n",
    "phase = 0 #Stores phase of complex quantity"
   ]
  },
  {
   "cell_type": "code",
   "execution_count": 34,
   "id": "fc04c14f",
   "metadata": {},
   "outputs": [],
   "source": [
    "lwr = [] #List that stores widgets to modify resistances\n",
    "lwc = [] #List that stores widgets to modify capacitances\n",
    "lwl = [] #List that stores widgets to modify inductances\n",
    "lwv = [] #List that stores widgets to modify voltage sources\n",
    "lwi = [] #List that stores widgets to modify current sources"
   ]
  },
  {
   "cell_type": "markdown",
   "id": "a7aa4252",
   "metadata": {},
   "source": [
    "### Approach to Solve : \n",
    "This approach slightly defers from the general idea of network nodal analysis. \n",
    "\n",
    "As taught in EE2015, given n nodes we can have n-1 nodal equations. However here the number of equations is n as I have explicitly added another equation $V_{gnd}$ = 0 which is implicitly assumed in the former statement.\n",
    "\n",
    "Apart from that the age old idea of modified nodal analysis (MNA) is applied considering currents through all the independent voltage sources and voltage at all the nodes and are displayed finally."
   ]
  },
  {
   "cell_type": "markdown",
   "id": "aa353c09",
   "metadata": {},
   "source": [
    "### Regarding use of Global variables\n",
    "Global variables like n, k, c, lwl are all quite useful in a way. Since, they are used throughout the program, maintaining a single copy of these variables and modifying the values when necessary proves to be a useful thing to do given the humungous nature of this code."
   ]
  },
  {
   "cell_type": "code",
   "execution_count": 35,
   "id": "25a3e836",
   "metadata": {},
   "outputs": [],
   "source": [
    "def reset() : #Function to reset after all the operations with respect to a netlist are completed.\n",
    "    global r\n",
    "    global v\n",
    "    global cur\n",
    "    global c\n",
    "    global ll\n",
    "    global n\n",
    "    global k\n",
    "    global w\n",
    "    global frequency\n",
    "    global phase\n",
    "    global lwr\n",
    "    global lwc\n",
    "    global lwl\n",
    "    global lwv\n",
    "    global lwi\n",
    "    global nodes\n",
    "    #I have imported all the global variables used and reset them all to be zero\n",
    "    nodes = {}\n",
    "    r = []\n",
    "    v = []\n",
    "    cur = []\n",
    "    c = []\n",
    "    ll = []\n",
    "    n = 0\n",
    "    k = 0\n",
    "    w.clear() \n",
    "    frequency = 0\n",
    "    phase = 0\n",
    "    lwr = []\n",
    "    lwc = []\n",
    "    lwl = []\n",
    "    lwv = []\n",
    "    lwi = []"
   ]
  },
  {
   "cell_type": "markdown",
   "id": "c3d9c4e4",
   "metadata": {},
   "source": [
    "# IMPORTANT :\n",
    "The reset() function needs to be run before entering the next netlist.\n",
    "This is done by calling the reset() function after running the netlist and doing the required modifications. "
   ]
  },
  {
   "cell_type": "markdown",
   "id": "ef43cbac",
   "metadata": {},
   "source": [
    "### Comments :\n",
    "Python is an amazingly versatile language. I created a list of objects belonging to one class before, now I just created a list of widgets. That's how amazing python is!!"
   ]
  },
  {
   "cell_type": "code",
   "execution_count": 36,
   "id": "19fe2867",
   "metadata": {},
   "outputs": [],
   "source": [
    "def f(x):\n",
    "    return x #Identity function"
   ]
  },
  {
   "cell_type": "code",
   "execution_count": 37,
   "id": "cdf60af7",
   "metadata": {},
   "outputs": [],
   "source": [
    "def widget(val1): #Used to create widget instance for R, L and C\n",
    "    w = wdg.interactive(f, x=wdg.FloatSlider(min = 0.0000000001,max = 100000000,step = 0.0000000001, value = val1))\n",
    "    display(w)\n",
    "    return w\n",
    "def widgetvi(val1): #Used to create widget instance for V and I sources\n",
    "    w = wdg.interactive(f, x=wdg.FloatSlider(min = 0.001,max = 1000,step = 0.001, value = val1))\n",
    "    display(w)\n",
    "    return w"
   ]
  },
  {
   "cell_type": "markdown",
   "id": "994f7ed1",
   "metadata": {},
   "source": [
    "### Additional Note :\n",
    "The widget I shall be using is Float Slider. \n",
    "\n",
    "I have created two different widget instances because the range of values permitted for current and voltage source and that of resistor, inductor and capacitor are expected to be different. \n",
    "    \n",
    "The ranges of each widget has been explicitly mentioned below (later) for clariy. "
   ]
  },
  {
   "cell_type": "code",
   "execution_count": 38,
   "id": "0cba804a",
   "metadata": {},
   "outputs": [],
   "source": [
    "def main():\n",
    "    name = input(\"Enter the name of the netlist including extension (.netlist)\")\n",
    "    if name[-8:] != \".netlist\" : #Check for .netlist in ending\n",
    "        print(\".netlist not found\")\n",
    "        sys.exit(\"Netlist should end with .netlist\")\n",
    "    with open(name) as f:\n",
    "        lines = f.readlines()\n",
    "    cktcount = 0\n",
    "    endcount = 0\n",
    "    global w #Use the set of all W (frequencies)\n",
    "    for line in lines :\n",
    "        s = []\n",
    "        if line == \"\" or line == \"\\n\":\n",
    "            continue\n",
    "        s = line.split()\n",
    "        if s[0] == \".ac\" :\n",
    "            w.add(float(s[2]))\n",
    "        if line == \".circuit\" or line == \".circuit\\n\":\n",
    "            cktcount +=1\n",
    "        if line == \".end\" or line == \".end\\n\":\n",
    "            endcount +=1\n",
    "    if cktcount > 1 : #Check for multiple .circuit\n",
    "        print(\"Too many .circuit s\")\n",
    "        sys.exit(\"Netlist should contain only one .circuit\")\n",
    "    if endcount > 1 : #Check for multiple .end\n",
    "        print(\"Too many .end s\")\n",
    "        sys.exit(\"Netlist should contain only one .end\")\n",
    "    a = findckt(lines)\n",
    "    b = findend(lines)\n",
    "    if a == -1 :\n",
    "        print (\".circuit not found\")\n",
    "    if b == -1 :\n",
    "        print (\".end not found\")\n",
    "    global nodes\n",
    "    nodes = {} #Stores list of nodes in the circuit and their mapping\n",
    "    count = 1\n",
    "    global n\n",
    "    global k\n",
    "    global r\n",
    "    global c\n",
    "    global ll\n",
    "    global v\n",
    "    global cur\n",
    "    global frequency\n",
    "    global phase\n",
    "    #Using global keyword we access the lists and variables that are used throughout the code\n",
    "    if a != -1 and b!=-1 :\n",
    "        circuit = lines[a+1:b]\n",
    "        for l in circuit :\n",
    "            ele = l.split()\n",
    "            for k_ in [1,2] :\n",
    "                if ele[k_] == \"GND\" : #GND is assigned a voltage of zero\n",
    "                    nodes[ele[k_]] = 0\n",
    "                if ele[k_] not in nodes.keys():\n",
    "                    nodes[ele[k_]] = count\n",
    "                    count += 1\n",
    "            if l[0] == 'R': #Storing a resistor nicely\n",
    "                print(\"Found a resistor\")\n",
    "                ro = R(nodes[ele[1]], nodes[ele[2]],  float(ele[3]))\n",
    "                r.append(ro)\n",
    "            if l[0] == 'C': #Storing a capacitor nicely\n",
    "                print(\"Found a capacitor\")\n",
    "                co = C(nodes[ele[1]], nodes[ele[2]], float(ele[3]))\n",
    "                c.append(co)\n",
    "            if l[0] == 'L': #Storing a inductor nicely\n",
    "                print(\"Found a inductor\")\n",
    "                lo = L(nodes[ele[1]], nodes[ele[2]], float(ele[3]))\n",
    "                ll.append(lo)\n",
    "            if l[0] == 'V': #Storing a voltage source nicely\n",
    "                if ele[3] == \"ac\" : #AC Source\n",
    "                    phase = float(ele[5])\n",
    "                    value = complex(float(ele[4])*np.cos(phase), float(ele[4])*np.sin(phase))\n",
    "                elif ele[3] == \"dc\" : #DC source\n",
    "                    value = float(ele[4])\n",
    "                    w.add(0)\n",
    "                else : #Checks if AC/ DC entry is left empty\n",
    "                    sys.exit(\"Enter AC or DC\")\n",
    "                vo = V(nodes[ele[1]], nodes[ele[2]],value)\n",
    "                v.append(vo)\n",
    "                print(\"Found a voltage source with value: \", vo.value)\n",
    "                k = k + 1\n",
    "            if l[0] == 'I': #Storing a current source nicely\n",
    "                if ele[3] == \"ac\" : #AC source\n",
    "                    phase = float(ele[5])\n",
    "                    value = complex(float(ele[4])*np.cos(phase), float(ele[4])*np.sin(phase))\n",
    "                elif ele[3] == \"dc\" : #DC source\n",
    "                    value = float(ele[4])\n",
    "                    w.add(0)\n",
    "                else : #Checks if AC/ DC entry is left empty\n",
    "                    sys.exit(\"Enter AC or DC\")\n",
    "                io = I(nodes[ele[1]], nodes[ele[2]], value)\n",
    "                cur.append(io)\n",
    "                print(\"Found a current source with value: \", io.value)\n",
    "        n = len(nodes)"
   ]
  },
  {
   "cell_type": "markdown",
   "id": "1e8a614e",
   "metadata": {},
   "source": [
    "### Reason for code in the above manner\n",
    "In the main() function we first check if the net list is valid and then proceed to get the elements and append them to an already existing empty list."
   ]
  },
  {
   "cell_type": "markdown",
   "id": "b6084d6c",
   "metadata": {},
   "source": [
    "### Use of a dictionary to store nodes\n",
    "I have used a dictionary to store nodes. This is because the node entered by the user could either be a string like n1, n2, GND etc or integers like 1, 2, 0 etc. Either way while reading from the file, it is always a string. So extracting tokens as strings is a better approach as against directly converting them to int. Thus, I have adopted this style of coding."
   ]
  },
  {
   "cell_type": "code",
   "execution_count": 39,
   "id": "070aafa2",
   "metadata": {},
   "outputs": [],
   "source": [
    "def detectchange(x):\n",
    "    for i__ in range(len(lwr)) : #This detects changes in resistor values\n",
    "        r[i__].value = lwr[i__].result\n",
    "    for i__ in range(len(lwc)) : #This detects changes in capacitor values\n",
    "        c[i__].value = lwc[i__].result\n",
    "    for i___ in range(len(lwl)): #This detects changes in inductor values\n",
    "        ll[i___].value = lwl[i___].result\n",
    "    for j___ in range(len(lwv)): #This detects changes in voltage source values\n",
    "        mag = lwv[j___].result\n",
    "        ph = cmath.phase(v[j___].value)\n",
    "        v[j___].value = complex(mag*np.cos(ph), mag*np.sin(ph))\n",
    "    for j__ in range(len(lwi)): #This detects changes in current source values\n",
    "        mag = lwi[j__].result\n",
    "        ph = cmath.phase(cur[j__].value)\n",
    "        cur[j__].value = complex(mag*np.cos(ph), mag*np.sin(ph))\n",
    "    cktsolver(n,k, r, c, ll, v, cur, 0)"
   ]
  },
  {
   "cell_type": "markdown",
   "id": "abf38b8b",
   "metadata": {},
   "source": [
    "### Why a detect change function ?\n",
    "When the detect change function is called the values of R, L, C, V and I are updated according to the need of the user. When there is a change in the value of any one of the parameters, the function detect change is called. This acts like a trigger to this function and thus updates the list and in turn updates the final values. The analogy to this being the clock pulse to a digital circuit. A digital circuit storage element like flip flop is triggered by the rising or falling edge of the clock pulse. Thus, detect change detects the change in state based on x!!"
   ]
  },
  {
   "cell_type": "code",
   "execution_count": 43,
   "id": "4304af61",
   "metadata": {},
   "outputs": [],
   "source": [
    "def cktsolver(n, k, r, c, ll, v, cur, x):#The x taken as input here is a dummy variable to make the working of the program dynamic.\n",
    "    global w\n",
    "    if len(w) == 1:\n",
    "        for f in w :\n",
    "            global frequency\n",
    "            frequency = f\n",
    "        M = np.zeros((n+k, n+k), dtype = np.complex128)  #M = zero matrix\n",
    "        b = np.zeros((n+k,1), dtype = np.complex128)     #b = zero vector\n",
    "        for res in r:\n",
    "             getMR(M, res.nodes, res.value)\n",
    "        for vol in v:\n",
    "            getMV(M, b, vol.nodes, vol.value, v.index(vol), n)\n",
    "        for curr in cur : \n",
    "            getMI(b, curr.nodes, curr.value)\n",
    "        for cap in c:\n",
    "            getMC(cap.nodes, M, frequency, cap.value)\n",
    "        for ind in ll:\n",
    "            getML(ind.nodes, M, frequency, ind.value)\n",
    "        M[0] = 0 #Set row corresponding to GND to 0\n",
    "        M[0][0] = 1 #Set the matrix entry corresponding to GND to 1\n",
    "        b[0] = 0 \n",
    "        gnd = 0 #To check whether GND Is specified or not.\n",
    "        for _ in nodes.keys():\n",
    "            if _ == 'GND' :\n",
    "                gnd = 1\n",
    "        if gnd != 1:\n",
    "            sys.exit(\"No GND specified\")\n",
    "        x = GaussianElimination(M,b) #Solves the set of equations generated\n",
    "        if np.all(x) == None : #Checks if solution exists or not\n",
    "            sys.exit(\"No solution\")\n",
    "        nk = list(nodes.keys())\n",
    "        if frequency == 0 :\n",
    "            for node_idx in range(len(nodes.values())) :\n",
    "                print(f\"The voltage at node {nk[node_idx]} is {x[node_idx].real}\")\n",
    "            for vol in v:\n",
    "                print(f\"The current through voltage source {vol.value} V between nodes {vol.nodes} is {x[n+v.index(vol)].real}\")\n",
    "        else :\n",
    "            for node_idx in range(len(nodes.values())) :\n",
    "                print(f\"The voltage at node {nk[node_idx]} is {abs(x[node_idx])} at an angle {cmath.phase(x[node_idx])} with source.\")\n",
    "            for vol in v:\n",
    "                print(f\"The current through voltage source {vol.value} V between nodes {vol.nodes} is {abs(x[n+v.index(vol)])} at an angle {cmath.phase(x[n+v.index(vol)])} with source.\")\n",
    "    else :\n",
    "        print(\"Enter a single frequency ONLY.\")"
   ]
  },
  {
   "cell_type": "markdown",
   "id": "6b5770b6",
   "metadata": {},
   "source": [
    "### Cktsolver()\n",
    "This function essentially develops the matrix M and b required to solve and also solves it. A separate function is definitely needed because on change of input, we need to recall this segment of code to solve for updated values. Thus, I have created it as a separate function.\n",
    "\n",
    "cktsolver() also checks for a single frequency as this method of solving works only for single frequency sources."
   ]
  },
  {
   "cell_type": "markdown",
   "id": "ca8d991e",
   "metadata": {},
   "source": [
    "### Solution to Problem Scenarios\n",
    "- A loop consisting purely of voltage sources will cause the system to be inconsistent.\n",
    "- A node connected purely to current sources will cause the system to be inconsistent. \n",
    "- A circuit defined with both DC and AC sources has been taken care of.\n",
    "- Syntax errors of the netlist are penalised."
   ]
  },
  {
   "cell_type": "markdown",
   "id": "ec5ae390",
   "metadata": {},
   "source": [
    "### How are problem scenarios solved in this code ?\n",
    "- The first two problem scenarios are actually not a problem because a loop full of voltage sources and a node full of current sources are by definition inconsistent, they have either no solution if KCL or KVL is violated or infinite solution if KCL or KVL is satisfied.\n",
    "- The third scenario of AC and DC is resolved by keeping a set w that keeps tracks of all frequencies, that includes DC which logically is AC with zero frequency.\n",
    "- The fourth scenario of syntax errors have been appropriately addressed - like .netlist, .cirucit, .end and absence of GND. All these have been shown to work using netlists defined by me."
   ]
  },
  {
   "cell_type": "markdown",
   "id": "df5fae99",
   "metadata": {},
   "source": [
    "### Small Bonus : Use Widgets\n",
    "This is the use of widgets to dynamically get the outputs. I have used widgets to dynamically change the values of R, L, C, V and I and use these changes to modify the output. "
   ]
  },
  {
   "cell_type": "markdown",
   "id": "5e3c699f",
   "metadata": {},
   "source": [
    "### Additional Note : Regarding convention for V and I sources\n",
    "- It is assumed that V n1 n2 means Vn1 - Vn2 = V\n",
    "- It is assumed that I n1 n2 means I enters n1 and leaves n2\n",
    "\n",
    "### Additional Assumption :\n",
    "It is assumed that magnitude of ac source by default means amplitude and not Vpp (peak to peak voltage)."
   ]
  },
  {
   "cell_type": "code",
   "execution_count": 52,
   "id": "5f60f688",
   "metadata": {},
   "outputs": [
    {
     "name": "stdout",
     "output_type": "stream",
     "text": [
      "Enter the name of the netlist including extension (.netlist)ckt1.netlist\n",
      "Found a resistor\n",
      "Found a resistor\n",
      "Found a resistor\n",
      "Found a resistor\n",
      "Found a resistor\n",
      "Found a voltage source with value:  5.0\n"
     ]
    }
   ],
   "source": [
    "main()"
   ]
  },
  {
   "cell_type": "code",
   "execution_count": 53,
   "id": "c610155a",
   "metadata": {},
   "outputs": [
    {
     "name": "stdout",
     "output_type": "stream",
     "text": [
      "The voltage at node GND is 0.0\n",
      "The voltage at node 1 is 0.0\n",
      "The voltage at node 2 is 0.0\n",
      "The voltage at node 3 is 0.0\n",
      "The voltage at node 4 is -5.0\n",
      "The current through voltage source 5.0 V between nodes (0, 4) is -0.0005\n"
     ]
    }
   ],
   "source": [
    "cktsolver(n, k, r, c, ll, v, cur, 0)"
   ]
  },
  {
   "cell_type": "markdown",
   "id": "d32c2e00",
   "metadata": {},
   "source": [
    "### Note on direction of current through voltage source -\n",
    "The current through voltage source is the current entering into the battery through the positive terminal of the battery, consistent with passive sign convention."
   ]
  },
  {
   "cell_type": "markdown",
   "id": "a1370e2a",
   "metadata": {},
   "source": [
    "### DO NOT FORGET TO RESET !\n",
    "The reset () function is called below. Do not forget to run it before checking the next netlist."
   ]
  },
  {
   "cell_type": "markdown",
   "id": "7e75a49a",
   "metadata": {},
   "source": [
    "### Range of Widgets :\n",
    "- R values can range from $10^{-10}$ $\\Omega$  to  $10^{8}$ $\\Omega$\n",
    "- C values can range from $10^{-10}$ $F$  to  $10^{8}$ $F$\n",
    "- L values can range from $10^{-10}$ $H$  to  $10^{8}$ $H$\n",
    "- V values can range from $10^{-3}$ V to $10^3$ V\n",
    "- A values can range from $10^{-3}$ A to $10^3$ A"
   ]
  },
  {
   "cell_type": "code",
   "execution_count": 54,
   "id": "8f2cfe49",
   "metadata": {},
   "outputs": [
    {
     "name": "stdout",
     "output_type": "stream",
     "text": [
      "Change the value of resistor between nodes (0, 1)\n"
     ]
    },
    {
     "data": {
      "application/vnd.jupyter.widget-view+json": {
       "model_id": "c51ebf05f854405399fc4aa9e5bfb0c6",
       "version_major": 2,
       "version_minor": 0
      },
      "text/plain": [
       "interactive(children=(FloatSlider(value=1000.0, description='x', max=100000000.0, min=1e-10, step=1e-10), Outp…"
      ]
     },
     "metadata": {},
     "output_type": "display_data"
    },
    {
     "name": "stdout",
     "output_type": "stream",
     "text": [
      "Change the value of resistor between nodes (1, 2)\n"
     ]
    },
    {
     "data": {
      "application/vnd.jupyter.widget-view+json": {
       "model_id": "652f54faec7a44bd929fbadcc6b70709",
       "version_major": 2,
       "version_minor": 0
      },
      "text/plain": [
       "interactive(children=(FloatSlider(value=4000.0, description='x', max=100000000.0, min=1e-10, step=1e-10), Outp…"
      ]
     },
     "metadata": {},
     "output_type": "display_data"
    },
    {
     "name": "stdout",
     "output_type": "stream",
     "text": [
      "Change the value of resistor between nodes (2, 0)\n"
     ]
    },
    {
     "data": {
      "application/vnd.jupyter.widget-view+json": {
       "model_id": "538ea5239fbc4a628f6cc43882bbd2e1",
       "version_major": 2,
       "version_minor": 0
      },
      "text/plain": [
       "interactive(children=(FloatSlider(value=20000.0, description='x', max=100000000.0, min=1e-10, step=1e-10), Out…"
      ]
     },
     "metadata": {},
     "output_type": "display_data"
    },
    {
     "name": "stdout",
     "output_type": "stream",
     "text": [
      "Change the value of resistor between nodes (2, 3)\n"
     ]
    },
    {
     "data": {
      "application/vnd.jupyter.widget-view+json": {
       "model_id": "18aaad50794f4f039cea312d2765aa13",
       "version_major": 2,
       "version_minor": 0
      },
      "text/plain": [
       "interactive(children=(FloatSlider(value=8000.0, description='x', max=100000000.0, min=1e-10, step=1e-10), Outp…"
      ]
     },
     "metadata": {},
     "output_type": "display_data"
    },
    {
     "name": "stdout",
     "output_type": "stream",
     "text": [
      "Change the value of resistor between nodes (0, 4)\n"
     ]
    },
    {
     "data": {
      "application/vnd.jupyter.widget-view+json": {
       "model_id": "af1a8ebeb00a40378da9fbd813ea0b3d",
       "version_major": 2,
       "version_minor": 0
      },
      "text/plain": [
       "interactive(children=(FloatSlider(value=10000.0, description='x', max=100000000.0, min=1e-10, step=1e-10), Out…"
      ]
     },
     "metadata": {},
     "output_type": "display_data"
    },
    {
     "name": "stdout",
     "output_type": "stream",
     "text": [
      "Change the value of voltage source between nodes (0, 4)\n"
     ]
    },
    {
     "data": {
      "application/vnd.jupyter.widget-view+json": {
       "model_id": "29b6f23aeeed41dbb18056c61a5b86c8",
       "version_major": 2,
       "version_minor": 0
      },
      "text/plain": [
       "interactive(children=(FloatSlider(value=5.0, description='x', max=1000.0, min=0.001, step=0.001), Output()), _…"
      ]
     },
     "metadata": {},
     "output_type": "display_data"
    },
    {
     "data": {
      "application/vnd.jupyter.widget-view+json": {
       "model_id": "4e6f27fa4ee549dfa1d6a1500e1284f2",
       "version_major": 2,
       "version_minor": 0
      },
      "text/plain": [
       "interactive(children=(Button(description='Run Interact', style=ButtonStyle()), Output()), _dom_classes=('widge…"
      ]
     },
     "metadata": {},
     "output_type": "display_data"
    },
    {
     "data": {
      "text/plain": [
       "<function __main__.detectchange(x)>"
      ]
     },
     "execution_count": 54,
     "metadata": {},
     "output_type": "execute_result"
    }
   ],
   "source": [
    "for res in r : #Used to change value of resistor dynamically\n",
    "    print(\"Change the value of resistor between nodes \"+str(res.nodes))\n",
    "    lwr.append(widget(res.value))\n",
    "for cap in c : #Used to change value of capacitor dynamically\n",
    "    print(\"Change the value of capacitor between nodes \"+str(cap.nodes))\n",
    "    lwc.append(widget(cap.value))\n",
    "for ind in ll : #Used to change value of inductor dynamically\n",
    "    print(\"Change the value of inductor between nodes \"+str(ind.nodes))\n",
    "    lwl.append(widget(ind.value))\n",
    "for vol in v: #Used to change value of voltage source dynamically\n",
    "    print(\"Change the value of voltage source between nodes \"+str(vol.nodes))\n",
    "    lwv.append(widgetvi(abs(vol.value)))\n",
    "for curr in cur: #Used to change value of current source dynamically\n",
    "    print(\"Change the value of current source between nodes \"+str(curr.nodes))\n",
    "    lwi.append(widgetvi(abs(curr.value)))\n",
    "wdg.interact_manual(detectchange, x=wdg.fixed(0))"
   ]
  },
  {
   "cell_type": "markdown",
   "id": "acb4aeb8",
   "metadata": {},
   "source": [
    "### When to call reset() ?\n",
    "Call the above function only when you are done with the current netlist and want to load the next netlist. "
   ]
  },
  {
   "cell_type": "code",
   "execution_count": 51,
   "id": "96fd32fc",
   "metadata": {},
   "outputs": [],
   "source": [
    "reset()"
   ]
  },
  {
   "cell_type": "markdown",
   "id": "34a36c92",
   "metadata": {},
   "source": [
    "### Note :\n",
    "I have used additional netlists which have been uploaded in the folder containing this document. There are a total of 18 netlists used to test all possible corner cases. "
   ]
  }
 ],
 "metadata": {
  "kernelspec": {
   "display_name": "Python 3 (ipykernel)",
   "language": "python",
   "name": "python3"
  },
  "language_info": {
   "codemirror_mode": {
    "name": "ipython",
    "version": 3
   },
   "file_extension": ".py",
   "mimetype": "text/x-python",
   "name": "python",
   "nbconvert_exporter": "python",
   "pygments_lexer": "ipython3",
   "version": "3.8.10"
  },
  "vscode": {
   "interpreter": {
    "hash": "135c9c029983d30fe2c25215b219c39403965bc9bf9257a46b5d1e1e22d97d61"
   }
  }
 },
 "nbformat": 4,
 "nbformat_minor": 5
}
