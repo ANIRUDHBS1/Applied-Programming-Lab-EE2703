{
 "cells": [
  {
   "cell_type": "markdown",
   "id": "417430f5",
   "metadata": {},
   "source": [
    "<center>\n",
    "\n",
    "# Transient Analysis and Steady State Dynamic Solver\n",
    "\n",
    "## Name : ANIRUDH B S\n",
    "## Roll No : EE21B019\n",
    "</center>"
   ]
  },
  {
   "cell_type": "markdown",
   "id": "54f25dea",
   "metadata": {},
   "source": [
    "## Involved Idea \n",
    "To simulate transients is not easy as described in class. However, I have approached this problem of simulating transients using the s-domain approach using sympy and scipy.signal. Using these powerful libraries of python, I shall convert a given circuit in time domain to s-domain, solve it and retrieve the time-domain transient response of the given circuit. This idea looks novice, but works for any arbitrary networks of R, L and C with independent voltage and current source. The initial conditions of capacitor and inductor have also been accounted for and it is also considered that all sources DC or AC are switched on at t=0 and transients thus obtained are being analysed."
   ]
  },
  {
   "cell_type": "markdown",
   "id": "3f30b85a",
   "metadata": {},
   "source": [
    "### Difference between this and Assignment 2\n",
    "The additional functionalities of this notebook over Assignment 2 are described below \n",
    "- This code works dynamically, that is instantaneous change in parameters of the circuit will result in the output automatically changing itself as per the changes\n",
    "- The Assignment 2 had no relation to plotting graphs. This code plots the graphs corresponding to various potentials and currents in the circuit with time.\n",
    "- This notebook has interactability, the user can interact with the code using widgets which was not offered in Assignment 2.\n",
    "- This notebook draws the circuit diagram which otherwise was not done in Assignment 2\n",
    "- The functionality of Bode Plot has also been added using which the user can find out at what frequency maxiumum gain is obtained which was not available in Assignment 2."
   ]
  },
  {
   "cell_type": "markdown",
   "id": "05ecfe1a",
   "metadata": {},
   "source": [
    "## Additional Requirements in the Netlist \n",
    "The code needs some additional requirements to draw the circuit beautifully using LCAPY. It is assumed that the input netlist also specifies where the elements need to be placed. \n",
    "\n",
    "For example,\n",
    "\n",
    "R1 n1 n2 R ; down \n",
    "\n",
    "implies that Resistor R1 of value R is placed between n1 and n2 and **n2 is below n1**.\n",
    "\n",
    "- Four instructions are permitted in the above format : up, down, right, left\n",
    "- Label the nodes properly and ensure that the circuit diagram is closed properly. DO NOT add random wires, this has not been handled. Add only R, L, C, V and I elements, for any other element, this code will fail."
   ]
  },
  {
   "cell_type": "markdown",
   "id": "0516815c",
   "metadata": {},
   "source": [
    "# Dynamic Steady State Solver"
   ]
  },
  {
   "cell_type": "markdown",
   "id": "1fa7c978",
   "metadata": {},
   "source": [
    "### This code segment allows us to change values dynamically and display the steady state complex values."
   ]
  },
  {
   "cell_type": "code",
   "execution_count": 1,
   "id": "4b72a03b",
   "metadata": {},
   "outputs": [],
   "source": [
    "import numpy as np\n",
    "import lcapy\n",
    "from sympy import *"
   ]
  },
  {
   "cell_type": "code",
   "execution_count": 2,
   "id": "7b1a83a4",
   "metadata": {},
   "outputs": [],
   "source": [
    "import numpy as np\n",
    "import ipywidgets as wdg\n",
    "import sys\n",
    "import cmath"
   ]
  },
  {
   "cell_type": "code",
   "execution_count": 3,
   "id": "739dcd26",
   "metadata": {},
   "outputs": [],
   "source": [
    "import scipy.signal as sp\n",
    "import matplotlib.pyplot as plt"
   ]
  },
  {
   "cell_type": "code",
   "execution_count": 4,
   "id": "4372c1e4",
   "metadata": {},
   "outputs": [],
   "source": [
    "s = symbols('s')"
   ]
  },
  {
   "cell_type": "markdown",
   "id": "4180415e",
   "metadata": {},
   "source": [
    "### Assumption : The above mentioned packages are installed.\n",
    "It is assumed that all the above packages are installed. If not, please do a pip install of the above packages as all of them have been used in respective places. \n",
    "\n",
    "The use of sympy and scipy.signal is to implement the s domain solving of circuit equations\n",
    "\n",
    "The use of lcapy is to draw the circuit as input by the user."
   ]
  },
  {
   "cell_type": "code",
   "execution_count": 5,
   "id": "709cfc1f",
   "metadata": {},
   "outputs": [],
   "source": [
    "class R: #Defined a class for resistor element to store it nicely\n",
    "    value = 0\n",
    "    nodes = ()\n",
    "    def __init__(self, n1, n2, value) :\n",
    "        self.value = value\n",
    "        self.nodes = (n1, n2)"
   ]
  },
  {
   "cell_type": "code",
   "execution_count": 6,
   "id": "c1e83098",
   "metadata": {},
   "outputs": [],
   "source": [
    "class C : #Defined a class for capacitor element to store it nicely\n",
    "    value = 0\n",
    "    nodes = ()\n",
    "    charge = 0\n",
    "    def __init__(self,  n1, n2, value, charge = 0) :\n",
    "        self.value = value\n",
    "        self.nodes = (n1, n2)\n",
    "        self.charge = charge"
   ]
  },
  {
   "cell_type": "code",
   "execution_count": 7,
   "id": "50a058b7",
   "metadata": {},
   "outputs": [],
   "source": [
    "class L : #Defined a class for inductor element to store it nicely\n",
    "    value = 0\n",
    "    nodes = ()\n",
    "    current = 0\n",
    "    def __init__(self, n1, n2, value, current =0) :\n",
    "        self.value = value\n",
    "        self.nodes = (n1, n2)\n",
    "        self.current = current"
   ]
  },
  {
   "cell_type": "code",
   "execution_count": 8,
   "id": "4f3bf7db",
   "metadata": {},
   "outputs": [],
   "source": [
    "class V : #Defined a class for voltage source element to store it nicely\n",
    "    value = 0\n",
    "    nodes= ()\n",
    "    def __init__(self,  n1, n2, value) :\n",
    "        self.value = value\n",
    "        self.nodes = (n1, n2)"
   ]
  },
  {
   "cell_type": "code",
   "execution_count": 9,
   "id": "49a894fb",
   "metadata": {},
   "outputs": [],
   "source": [
    "class I : #Defined a class for current source element to store it nicely\n",
    "    value = 0\n",
    "    nodes = ()\n",
    "    def __init__(self, n1, n2, value) :\n",
    "        self.value = value\n",
    "        self.nodes = (n1, n2)"
   ]
  },
  {
   "cell_type": "code",
   "execution_count": 10,
   "id": "e4236a4d",
   "metadata": {},
   "outputs": [],
   "source": [
    "def findckt(lines) : #Defined a function to find .circuit in a netlist\n",
    "    for line in lines : \n",
    "        if line == \".circuit\" or line == \".circuit\\n\" :\n",
    "            return lines.index(line)\n",
    "    return -1"
   ]
  },
  {
   "cell_type": "code",
   "execution_count": 11,
   "id": "44d9e0ac",
   "metadata": {},
   "outputs": [],
   "source": [
    "def findend(lines) : #Defined a function to find .end in a netlist\n",
    "    for line in lines :\n",
    "        if line == \".end\" or line == \".end\\n\" :\n",
    "            return lines.index(line)\n",
    "    return -1"
   ]
  },
  {
   "cell_type": "markdown",
   "id": "2294c913",
   "metadata": {},
   "source": [
    "### Reasons for adopting an OOP based approach\n",
    "I have adopted a classical OOP form of approaching this problem by creating classes and respective objects and storing them. This is because this would make my code look neater and more presentable. Moreover, it is quite intuitive from the name of the function or class itself the function it is meant to serve. Thus, the OOP form provides an edge over all other possible forms of approaching the given problem."
   ]
  },
  {
   "cell_type": "code",
   "execution_count": 12,
   "id": "a109bb03",
   "metadata": {},
   "outputs": [],
   "source": [
    "def getMR (M, Ms, nodes, value) : #Given a resistor, updates the values of matrix M and Ms\n",
    "    n1, n2 = nodes\n",
    "    M[n1][n1] += 1/value \n",
    "    M[n1][n2] -= 1/value\n",
    "    M[n2][n1] -= 1/value\n",
    "    M[n2][n2] += 1/value\n",
    "    Ms[n1,n1] += 1/value \n",
    "    Ms[n1,n2] -= 1/value\n",
    "    Ms[n2,n1] -= 1/value\n",
    "    Ms[n2,n2] += 1/value"
   ]
  },
  {
   "cell_type": "code",
   "execution_count": 13,
   "id": "447f0a6e",
   "metadata": {},
   "outputs": [],
   "source": [
    "def getMV (M, b, Ms, bs,nodes, value, n, idx): #Given a voltage source, updates the values of matrix M and b\n",
    "    n1, n2 = nodes\n",
    "    M[n1][n+idx] += 1\n",
    "    M[n+idx][n1] += 1\n",
    "    M[n+idx][n2] -= 1\n",
    "    M[n2][n+idx] -= 1\n",
    "    b[n+idx] = value\n",
    "    global frequency\n",
    "    s = symbols('s')\n",
    "    if frequency == 0:\n",
    "        Ms[n1,n+idx] += 1\n",
    "        Ms[n+idx,n1] += 1\n",
    "        Ms[n+idx,n2] -= 1\n",
    "        Ms[n2,n+idx] -= 1\n",
    "        bs[n+idx] = value.real/s\n",
    "    else :\n",
    "        Ms[n1,n+idx] += 1\n",
    "        Ms[n+idx,n1] += 1\n",
    "        Ms[n+idx,n2] -= 1\n",
    "        Ms[n2,n+idx] -= 1\n",
    "        bs[n+idx] = abs(value) *(2*np.pi*frequency/(s**2 + (2*np.pi*frequency)**2))"
   ]
  },
  {
   "cell_type": "code",
   "execution_count": 14,
   "id": "31db7141",
   "metadata": {},
   "outputs": [],
   "source": [
    "def getMI (b, bs, nodes, value) : #Given a current source, updates the values of matrix M and b\n",
    "    n1, n2 = nodes\n",
    "    b[n1] += value\n",
    "    b[n2] -= value\n",
    "    global frequency\n",
    "    s = symbols('s')\n",
    "    if frequency == 0:\n",
    "        bs[n1] += value.real/s\n",
    "        bs[n2] -= value.real/s\n",
    "    else :\n",
    "        bs[n1] += abs(value)*(2*np.pi*frequency/(s**2 + (2*np.pi*frequency)**2))\n",
    "        bs[n2] -= abs(value)*(2*np.pi*frequency/(s**2 + (2*np.pi*frequency)**2))"
   ]
  },
  {
   "cell_type": "code",
   "execution_count": 15,
   "id": "4e57c743",
   "metadata": {},
   "outputs": [],
   "source": [
    "def getMC(nodes, M, Ms, bs, frequency, value, charge = 0):#Given a capacitor updates matrix M\n",
    "    n1, n2 = nodes\n",
    "    s = symbols('s')\n",
    "    M[n1][n1] += complex(0,6.28*frequency*value)\n",
    "    M[n1][n2] -= complex(0,6.28*frequency*value)\n",
    "    M[n2][n1] -= complex(0,6.28*frequency*value)\n",
    "    M[n2][n2] += complex(0,6.28*frequency*value)\n",
    "    Ms[n1,n1] += s*value\n",
    "    Ms[n1,n2] -= s*value\n",
    "    Ms[n2,n1] -= s*value\n",
    "    Ms[n2,n2] += s*value\n",
    "    if charge != 0 :\n",
    "        bs[n1] += charge\n",
    "        bs[n2] -= charge"
   ]
  },
  {
   "cell_type": "code",
   "execution_count": 16,
   "id": "6137bf21",
   "metadata": {},
   "outputs": [],
   "source": [
    "def getML(nodes, M,Ms, b, bs, frequency, value, idx, current = 0): #Given a inductor, updates the matrix M\n",
    "    n1, n2 = nodes\n",
    "    global n, k\n",
    "    try :\n",
    "        M[n1][n1] += complex(0,1/(6.28*frequency*value))\n",
    "        M[n1][n2] -= complex(0,1/(6.28*frequency*value))\n",
    "        M[n2][n1] -= complex(0,1/(6.28*frequency*value))\n",
    "        M[n2][n2] += complex(0,1/(6.28*frequency*value))\n",
    "    except ZeroDivisionError :\n",
    "        M[n1][n+k+idx] += 1\n",
    "        M[n+k+idx][n2] -= 1\n",
    "        M[n+k+idx][n1] += 1\n",
    "        M[n2][n+k+idx] -= 1\n",
    "        b[n+k+idx] = 0\n",
    "    s = symbols('s')\n",
    "    Ms[n1,n1] += 1/(s*value)\n",
    "    Ms[n1,n2] -= 1/(s*value)\n",
    "    Ms[n2,n1] -= 1/(s*value)\n",
    "    Ms[n2,n2] += 1/(s*value)\n",
    "    if current != 0 :\n",
    "        bs[n1] -= current/s\n",
    "        bs[n2] += current/s"
   ]
  },
  {
   "cell_type": "markdown",
   "id": "da000bae",
   "metadata": {},
   "source": [
    "### Reason for functional approach to get Matrices\n",
    "I have adopted a functional approach to update matrices as it is appealing to the reader and highly intuitive for any experienced circuit designer. The functions getM_() basically update the matrix M corresponding to the elements R, V, I, C and L respectively."
   ]
  },
  {
   "cell_type": "code",
   "execution_count": 17,
   "id": "90700d10",
   "metadata": {},
   "outputs": [],
   "source": [
    "def f(x):\n",
    "    return x"
   ]
  },
  {
   "cell_type": "code",
   "execution_count": 18,
   "id": "f17bcfdd",
   "metadata": {},
   "outputs": [],
   "source": [
    "def widget(val1): #Used to create widget instance for R, L and C\n",
    "    w = wdg.interactive(f, x=wdg.FloatSlider(min = 0.0000000001,max = 100000000,step = 0.0000000001, value = val1))\n",
    "    display(w)\n",
    "    return w\n",
    "def widgetvi(val1): #Used to create widget instance for V and I sources\n",
    "    w = wdg.interactive(f, x=wdg.FloatSlider(min = -1000,max = 1000,step = 0.001, value = val1))\n",
    "    display(w)\n",
    "    return w"
   ]
  },
  {
   "cell_type": "markdown",
   "id": "a2665a11",
   "metadata": {},
   "source": [
    "### Additional Note :\n",
    "The widget I shall be using is Float Slider. \n",
    "\n",
    "I have created two different widget instances because the range of values permitted for current and voltage source and that of resistor, inductor and capacitor are expected to be different. \n",
    "    \n",
    "The ranges of each widget has been explicitly mentioned below (later) for clariy. "
   ]
  },
  {
   "cell_type": "code",
   "execution_count": 19,
   "id": "d8a47653",
   "metadata": {},
   "outputs": [],
   "source": [
    "n = 0 #Number of nodes in circuit\n",
    "k = 0 #Number of independent voltage sources in circuit\n",
    "r = [] #Stores list of resistance objects\n",
    "v = [] #Stores list of voltage sources objects\n",
    "cur = [] #Stores list of current source objects\n",
    "c = [] #Stores list of capacitor objects\n",
    "ll = [] #Stores list of inductor objects\n",
    "nodes = {} #Stores dictionary mapping of nodes\n",
    "y = [] #Used to store list of transient outputs \n",
    "name = '' #Used to store the name of netlist"
   ]
  },
  {
   "cell_type": "code",
   "execution_count": 20,
   "id": "73d0a2c0",
   "metadata": {},
   "outputs": [],
   "source": [
    "w = set() #Stores set of distinct frequencies\n",
    "frequency  = 0 #Stores last entered frequency of source\n",
    "phase = 0 #Stores phase of complex quantity"
   ]
  },
  {
   "cell_type": "code",
   "execution_count": 21,
   "id": "d553639d",
   "metadata": {},
   "outputs": [],
   "source": [
    "lwr = [] #List that stores widgets to modify resistances\n",
    "lwc = [] #List that stores widgets to modify capacitances\n",
    "lwl = [] #List that stores widgets to modify inductances\n",
    "lwv = [] #List that stores widgets to modify voltage sources\n",
    "lwi = [] #List that stores widgets to modify current sources\n",
    "lwccharge = []  #List that stores widgets to modify initial charge of capacitor\n",
    "lwlcurrent = [] #List that stores widgets to modify initial current of inductor"
   ]
  },
  {
   "cell_type": "code",
   "execution_count": 22,
   "id": "bfd6959e",
   "metadata": {},
   "outputs": [],
   "source": [
    "def reset() : #Function to reset after all the operations with respect to a netlist are completed.\n",
    "    global r\n",
    "    global v\n",
    "    global cur\n",
    "    global c\n",
    "    global ll\n",
    "    global n\n",
    "    global k\n",
    "    global w\n",
    "    global frequency\n",
    "    global phase\n",
    "    global lwr\n",
    "    global lwc\n",
    "    global lwl\n",
    "    global lwv\n",
    "    global lwi\n",
    "    global nodes\n",
    "    global lwccharge\n",
    "    global lwlcurrent\n",
    "    global y\n",
    "    global name\n",
    "    #I have imported all the global variables used and reset them all to be zero\n",
    "    nodes = {}\n",
    "    r = []\n",
    "    v = []\n",
    "    cur = []\n",
    "    c = []\n",
    "    ll = []\n",
    "    n = 0\n",
    "    k = 0\n",
    "    w.clear() \n",
    "    frequency = 0\n",
    "    phase = 0\n",
    "    lwr = []\n",
    "    lwc = []\n",
    "    lwl = []\n",
    "    lwv = []\n",
    "    lwi = []\n",
    "    lwccharge = []\n",
    "    lwlcurrent = []\n",
    "    y = []\n",
    "    name = ''"
   ]
  },
  {
   "cell_type": "code",
   "execution_count": 23,
   "id": "e796b750",
   "metadata": {},
   "outputs": [],
   "source": [
    "def draw(f): #Function to draw the circuit\n",
    "    cktdraw = lcapy.Circuit(f)\n",
    "    cktdraw.draw()"
   ]
  },
  {
   "cell_type": "markdown",
   "id": "3aca0e92",
   "metadata": {},
   "source": [
    "Since, we are solving for a AC circuit, we include frequency and phase too in our analysis."
   ]
  },
  {
   "cell_type": "code",
   "execution_count": 24,
   "id": "f99c6870",
   "metadata": {},
   "outputs": [],
   "source": [
    "def main():\n",
    "    global name\n",
    "    name = input(\"Enter the name of the netlist including extension (.netlist)\")\n",
    "    if name[-8:] != \".netlist\" : #Check for .netlist in ending\n",
    "        print(\".netlist not found\")\n",
    "        sys.exit(\"Netlist should end with .netlist\")\n",
    "    with open(name) as f:\n",
    "        lines = f.readlines()\n",
    "    cktcount = 0\n",
    "    endcount = 0\n",
    "    global w #Use the set of all W (frequencies)\n",
    "    for line in lines :\n",
    "        s = []\n",
    "        if line == \"\" or line == \"\\n\":\n",
    "            continue\n",
    "        s = line.split()\n",
    "        if s[0] == \".ac\" :\n",
    "            w.add(float(s[2]))\n",
    "        if line == \".circuit\" or line == \".circuit\\n\":\n",
    "            cktcount +=1\n",
    "        if line == \".end\" or line == \".end\\n\":\n",
    "            endcount +=1\n",
    "    if cktcount > 1 : #Check for multiple .circuit\n",
    "        print(\"Too many .circuit s\")\n",
    "        sys.exit(\"Netlist should contain only one .circuit\")\n",
    "    if endcount > 1 : #Check for multiple .end\n",
    "        print(\"Too many .end s\")\n",
    "        sys.exit(\"Netlist should contain only one .end\")\n",
    "    a = findckt(lines)\n",
    "    b = findend(lines)\n",
    "    if a == -1 :\n",
    "        print (\".circuit not found\")\n",
    "    if b == -1 :\n",
    "        print (\".end not found\")\n",
    "    global nodes\n",
    "    nodes = {} #Stores list of nodes in the circuit and their mapping\n",
    "    count = 1\n",
    "    global n\n",
    "    global k\n",
    "    global r\n",
    "    global c\n",
    "    global ll\n",
    "    global v\n",
    "    global cur\n",
    "    global frequency\n",
    "    global phase\n",
    "    #Using global keyword we access the lists and variables that are used throughout the code\n",
    "    if a != -1 and b!=-1 :\n",
    "        circuit = lines[a+1:b]\n",
    "        for l in circuit :\n",
    "            ele = l.split()\n",
    "            for k_ in [1,2] :\n",
    "                if ele[k_] == \"GND\" : #GND is assigned a voltage of zero\n",
    "                    nodes[ele[k_]] = 0\n",
    "                if ele[k_] not in nodes.keys():\n",
    "                    nodes[ele[k_]] = count\n",
    "                    count += 1\n",
    "            if l[0] == 'R': #Storing a resistor nicely\n",
    "                print(\"Found a resistor\")\n",
    "                ro = R(nodes[ele[1]], nodes[ele[2]],  float(ele[3]))\n",
    "                r.append(ro)\n",
    "            if l[0] == 'C': #Storing a capacitor nicely\n",
    "                print(\"Found a capacitor\")\n",
    "                co = C(nodes[ele[1]], nodes[ele[2]], float(ele[3]))\n",
    "                c.append(co)\n",
    "            if l[0] == 'L': #Storing a inductor nicely\n",
    "                print(\"Found a inductor\")\n",
    "                lo = L(nodes[ele[1]], nodes[ele[2]], float(ele[3]))\n",
    "                ll.append(lo)\n",
    "            if l[0] == 'V': #Storing a voltage source nicely\n",
    "                if ele[3] == \"ac\" : #AC Source\n",
    "                    phase = float(ele[5])\n",
    "                    value = complex(float(ele[4])*np.cos(phase), float(ele[4])*np.sin(phase))\n",
    "                elif ele[3] == \"dc\" : #DC source\n",
    "                    value = float(ele[4])\n",
    "                    w.add(0)\n",
    "                else : #Checks if AC/ DC entry is left empty\n",
    "                    sys.exit(\"Enter AC or DC\")\n",
    "                vo = V(nodes[ele[1]], nodes[ele[2]],value)\n",
    "                v.append(vo)\n",
    "                print(\"Found a voltage source with value: \", vo.value)\n",
    "                k = k + 1\n",
    "            if l[0] == 'I': #Storing a current source nicely\n",
    "                if ele[3] == \"ac\" : #AC source\n",
    "                    phase = float(ele[5])\n",
    "                    value = complex(float(ele[4])*np.cos(phase), float(ele[4])*np.sin(phase))\n",
    "                elif ele[3] == \"dc\" : #DC source\n",
    "                    value = float(ele[4])\n",
    "                    w.add(0)\n",
    "                else : #Checks if AC/ DC entry is left empty\n",
    "                    sys.exit(\"Enter AC or DC\")\n",
    "                io = I(nodes[ele[1]], nodes[ele[2]], value)\n",
    "                cur.append(io)\n",
    "                print(\"Found a current source with value: \", io.value)\n",
    "        n = len(nodes)"
   ]
  },
  {
   "cell_type": "markdown",
   "id": "75eb75c7",
   "metadata": {},
   "source": [
    "### Reason for code in the above manner\n",
    "In the main() function we first check if the net list is valid and then proceed to get the elements and append them to an already existing empty list."
   ]
  },
  {
   "cell_type": "markdown",
   "id": "534999a8",
   "metadata": {},
   "source": [
    "### Use of a dictionary to store nodes\n",
    "I have used a dictionary to store nodes. This is because the node entered by the user could either be a string like n1, n2, GND etc or integers like 1, 2, 0 etc. Either way while reading from the file, it is always a string. So extracting tokens as strings is a better approach as against directly converting them to int. Thus, I have adopted this style of coding."
   ]
  },
  {
   "cell_type": "code",
   "execution_count": 25,
   "id": "0d1c82a4",
   "metadata": {},
   "outputs": [],
   "source": [
    "def detectchange():\n",
    "    for i__ in range(len(lwr)) : #This detects changes in resistor values\n",
    "        r[i__].value = lwr[i__].result\n",
    "    for i__ in range(len(lwc)) : #This detects changes in capacitor values\n",
    "        c[i__].value = lwc[i__].result\n",
    "        c[i__].charge = lwccharge[i__].result\n",
    "    for i___ in range(len(lwl)): #This detects changes in inductor values\n",
    "        ll[i___].value = lwl[i___].result\n",
    "        ll[i___].current = lwlcurrent[i___].result\n",
    "    for j___ in range(len(lwv)): #This detects changes in voltage source values\n",
    "        mag = lwv[j___].result\n",
    "        ph = cmath.phase(v[j___].value)\n",
    "        v[j___].value = complex(mag*np.cos(ph), mag*np.sin(ph))\n",
    "    for j__ in range(len(lwi)): #This detects changes in current source values\n",
    "        mag = lwi[j__].result\n",
    "        ph = cmath.phase(cur[j__].value)\n",
    "        cur[j__].value = complex(mag*np.cos(ph), mag*np.sin(ph))\n",
    "    cktsolver(n,k, r, c, ll, v, cur, 0)"
   ]
  },
  {
   "cell_type": "markdown",
   "id": "6e0fb42b",
   "metadata": {},
   "source": [
    "### Why a detect change function ?\n",
    "The detect change function is called by the checkbox when its state is toggled on its own. This acts like a trigger to this function and thus updates the list and in turn updates the final values. The analogy to this being the clock pulse to a digital circuit. A digital circuit storage element like flip flop is triggered by the rising or falling edge of the clock pulse. Thus, detect change detects the change in state based on x!!"
   ]
  },
  {
   "cell_type": "code",
   "execution_count": 26,
   "id": "70542a97",
   "metadata": {},
   "outputs": [],
   "source": [
    "def getTF(i):\n",
    "    global y\n",
    "    Vol = y[i]\n",
    "    num, den  = Vol.as_numer_denom() #Get numerator and denominator given a rational function in sympy\n",
    "    l1 = []\n",
    "    l2 = []\n",
    "    if num.is_number :\n",
    "        l1.append(float(num)) #To store a constant value, say numerator is 1 then this ensures l1 stores [1.]\n",
    "    else :\n",
    "        nump = num.as_poly() \n",
    "        l11 = nump.all_coeffs()\n",
    "        for _ in l11 :\n",
    "            l1.append(float(_)) #Stores coefficients of numerator in a list\n",
    "    if den.is_number :\n",
    "        l2.append(float(den)) #To store a constant value, say denominator is 1 then this ensures l2 stores [1.]\n",
    "    else :\n",
    "        denp = den.as_poly()\n",
    "        l21 = denp.all_coeffs()\n",
    "        for _ in l21 :\n",
    "            l2.append(float(_)) #Stores coefficients of denominator in a list\n",
    "    V = sp.lti(l1, l2) #Generates Transfer Function Object using num list and den list\n",
    "    return V"
   ]
  },
  {
   "cell_type": "markdown",
   "id": "3a40cdb0",
   "metadata": {},
   "source": [
    "### What does getTF() do ?\n",
    "The issue what getTF() handles is that there is no clear one-to-one function that maps a sympy solution to a transfer function variable of scipy which directly gives the time domain response of the signal. So, here, I parse the sympy expression coefficient by coefficient and append them to a list so in a way I just converted a sympy rational function to two separate polynomial lists storing coefficients. \n",
    "\n",
    "For example, \n",
    "if the transfer function \n",
    "<center>\n",
    "    H(s) = $\\frac{s+1}{s^2+3}$\n",
    "</center>\n",
    "the only work the first half of the code does is define l1 which is the numerator and store coefficients in a list format like this [1,1]. Similarly, l2 will be [1,0,3] which are the coefficients of $s^2$, s and constant term respectively.\n",
    "\n",
    "I shall use the lti function of scipy.signal which defines the Transfer Function H(s) in python as H(s) = N(s)/ D(s)"
   ]
  },
  {
   "cell_type": "code",
   "execution_count": 27,
   "id": "5ed822ed",
   "metadata": {},
   "outputs": [],
   "source": [
    "def BodePlot(i):\n",
    "    V = getTF(i)\n",
    "    w,S,phi = V.bode()\n",
    "    plt.subplot(2,1,1)\n",
    "    plt.title(\"Magnitude Plot\")\n",
    "    plt.semilogx(w,S)\n",
    "    plt.subplot(2,1,2)\n",
    "    plt.title(\"Phase Plot\")\n",
    "    plt.semilogx(w, phi)"
   ]
  },
  {
   "cell_type": "markdown",
   "id": "08f448d3",
   "metadata": {},
   "source": [
    "### What does BodePlot() do ?\n",
    "As obvious from its name, BodePlot() plots the frequency response (both magnitude and phase) of a given transfer function."
   ]
  },
  {
   "cell_type": "code",
   "execution_count": 28,
   "id": "0abd558f",
   "metadata": {},
   "outputs": [],
   "source": [
    "def invlap(i,t1): #Function to generate the plot of transients\n",
    "    V = getTF(i)\n",
    "    t, vt = sp.impulse(V, None, np.linspace(0,t1,int(10*t1))) #Computes the time domain response given the impulse response\n",
    "    plt.plot(t, vt,  label = str(i)) #Plots the required output\n",
    "    #BodePlot(V)"
   ]
  },
  {
   "cell_type": "markdown",
   "id": "e935d095",
   "metadata": {},
   "source": [
    "### What does the invlap() function do ?\n",
    "The invlap() function takes in two arguments, ie the s domain solution obtained by solving the circuit using sympy and the second parameter being the time upto which we need the transient response.\n",
    "\n",
    "Here, I shall derive the time domain response using scipy.signal.impulse which computes the impulse response in time domain given in s domain.\n",
    "\n",
    "Then the desired graph is plotted."
   ]
  },
  {
   "cell_type": "code",
   "execution_count": 29,
   "id": "a2ea6f6a",
   "metadata": {},
   "outputs": [],
   "source": [
    "def cktsolver(n, k, r, c, ll, v, cur, x):#The x taken as input here is a dummy variable to make the working of the program dynamic.\n",
    "    global w\n",
    "    global y\n",
    "    s = symbols('s')\n",
    "    if len(w) == 1:\n",
    "        for f in w :\n",
    "            global frequency\n",
    "            frequency = f\n",
    "        if frequency == 0:\n",
    "            M = np.zeros((n+k+len(ll), n+k+len(ll)), dtype = np.complex128)  #M = zero matrix\n",
    "            b = np.zeros((n+k+len(ll),1), dtype = np.complex128)     #b = zero vector\n",
    "            Ms = zeros(n+k, n+k)\n",
    "            bs = zeros(n+k,1)\n",
    "        else :\n",
    "            M = np.zeros((n+k, n+k), dtype = np.complex128)  #M = zero matrix\n",
    "            b = np.zeros((n+k,1), dtype = np.complex128)     #b = zero vector\n",
    "            Ms = zeros(n+k, n+k)\n",
    "            bs = zeros(n+k,1)\n",
    "        for res in r:\n",
    "             getMR(M,Ms, res.nodes, res.value)\n",
    "        for vol in v:\n",
    "            getMV(M, b, Ms, bs,vol.nodes, vol.value, v.index(vol), n)\n",
    "        for curr in cur : \n",
    "            getMI(b, bs, curr.nodes, curr.value)\n",
    "        for cap in c:\n",
    "            getMC(cap.nodes, M, Ms,bs, frequency, cap.value, cap.charge)\n",
    "        for ind in ll:\n",
    "            getML(ind.nodes, M, Ms, b, bs, frequency, ind.value, ll.index(ind), ind.current)\n",
    "        M[0] = 0 #Set row corresponding to GND to 0\n",
    "        M[0][0] = 1 #Set the matrix entry corresponding to GND to 1\n",
    "        b[0] = 0 \n",
    "        for _ in range(len(list(Ms[0,:]))):\n",
    "            Ms[0,_] = 0 #Set row corresponding to GND to 0\n",
    "        Ms[0,0] = 1 #Set the matric entry corresponding to GND to 1\n",
    "        bs[0] = 0\n",
    "        gnd = 0 #To check whether GND Is specified or not.\n",
    "        for _ in nodes.keys():\n",
    "            if _ == 'GND' :\n",
    "                gnd = 1\n",
    "        if gnd != 1:\n",
    "            sys.exit(\"No GND specified\")\n",
    "        try :\n",
    "            x = np.linalg.solve(M,b) #Solves the set of equations generated\n",
    "        except :\n",
    "            sys.exit(\"No solution\")\n",
    "        y = Ms.inv()*bs #Computes the s domain inverse matrix y \n",
    "        print(\"Look at the index number (below the graph) and modify it !  and change t1 too !\")\n",
    "        wdg.interact(invlap, i= range(n+k), t1 = wdg.FloatSlider(min = 0.1, max = 50, step = 0.1, value = 10))\n",
    "        nk = list(nodes.keys())\n",
    "        if frequency == 0 :\n",
    "            for node_idx in range(len(nodes.values())) :\n",
    "                print(f\"The voltage at node {nk[node_idx]} is {x[node_idx].real}\")\n",
    "            for vol in v:\n",
    "                print(f\"The current through voltage source {vol.value} V between nodes {vol.nodes} is {x[n+v.index(vol)].real}\")\n",
    "        else :\n",
    "            for node_idx in range(len(nodes.values())) :\n",
    "                print(f\"The voltage at node {nk[node_idx]} is {abs(x[node_idx])} at an angle {cmath.phase(x[node_idx])} with source.\")\n",
    "            for vol in v:\n",
    "                print(f\"The current through voltage source {vol.value} V between nodes {vol.nodes} is {abs(x[n+v.index(vol)])} at an angle {cmath.phase(x[n+v.index(vol)])} with source.\")\n",
    "    else :\n",
    "        print(\"Enter a single frequency ONLY.\")"
   ]
  },
  {
   "cell_type": "markdown",
   "id": "7a8bcc43",
   "metadata": {},
   "source": [
    "### Cktsolver()\n",
    "This function essentially develops the matrix M and b required to solve and also solves it. A separate function is definitely needed because on change of input, we need to recall this segment of code to solve for updated values. Thus, I have created it as a separate function.\n",
    "\n",
    "cktsolver() also checks for a single frequency as this method of solving works only for single frequency sources."
   ]
  },
  {
   "cell_type": "markdown",
   "id": "1cc9c77b",
   "metadata": {},
   "source": [
    "### Solution to Problem Scenarios\n",
    "- A loop consisting purely of voltage sources will cause the system to be inconsistent.\n",
    "- A node connected purely to current sources will cause the system to be inconsistent. \n",
    "- A circuit defined with both DC and AC sources has been taken care of.\n",
    "- Syntax errors of the netlist are penalised."
   ]
  },
  {
   "cell_type": "markdown",
   "id": "873dd453",
   "metadata": {},
   "source": [
    "### How are problem scenarios solved in this code ?\n",
    "- The first two problem scenarios are actually not a problem because a loop full of voltage sources and a node full of current sources are by definition inconsistent, they have either no solution if KCL or KVL is violated or infinite solution if KCL or KVL is satisfied.\n",
    "- The third scenario of AC and DC is resolved by keeping a set w that keeps tracks of all frequencies, that includes DC whAich logically is AC with zero frequency.\n",
    "- The fourth scenario of syntax errors have been appropriately addressed - like .netlist, .cirucit, .end and absence of GND. All these have been shown to work using netlists defined by me."
   ]
  },
  {
   "cell_type": "markdown",
   "id": "b074bf62",
   "metadata": {},
   "source": [
    "### Additional Note : Regarding convention for V and I sources\n",
    "- It is assumed that V n1 n2 means Vn1 - Vn2 = V\n",
    "- It is assumed that I n1 n2 means I enters n1 and leaves n2\n",
    "- It is assumed that L n1 n2 with initial condition Io means that Io flows from n1 to n2\n",
    "- It is assumed that C n1 n2 with initial condition Qo means that the potential difference V is Vn1-Vn2\n",
    "\n",
    "### Additional Assumption :\n",
    "It is assumed that magnitude of ac source by default means amplitude and not Vpp (peak to peak voltage).\n",
    "\n",
    "### Note on direction of current through voltage source -\n",
    "The current through voltage source is the current entering into the battery through the positive terminal of the battery, consistent with passive sign convention.\n",
    "\n",
    "### Additiional Note :\n",
    "Kindly remove any headers as it cannot be recognised by lcapy to draw"
   ]
  },
  {
   "cell_type": "code",
   "execution_count": 30,
   "id": "64a6b57a",
   "metadata": {},
   "outputs": [
    {
     "name": "stdout",
     "output_type": "stream",
     "text": [
      "Enter the name of the netlist including extension (.netlist)ckt4.netlist\n",
      "Found a voltage source with value:  10.0\n",
      "Found a resistor\n",
      "Found a resistor\n",
      "Found a resistor\n",
      "Found a resistor\n"
     ]
    }
   ],
   "source": [
    "main()"
   ]
  },
  {
   "cell_type": "code",
   "execution_count": 31,
   "id": "e076e171",
   "metadata": {},
   "outputs": [
    {
     "name": "stderr",
     "output_type": "stream",
     "text": [
      "/home/anirudh/.local/lib/python3.8/site-packages/lcapy/schematic.py:569: UserWarning: Have circuitikz version 1.0; should upgrade to 1.4.5 or later\n",
      "  warn('Have circuitikz version %s; should upgrade to %s or later'\n"
     ]
    },
    {
     "data": {
      "image/png": "[encoded data removed]"
     },
     "metadata": {
      "image/png": {
       "height": 320,
       "width": 502
      }
     },
     "output_type": "display_data"
    }
   ],
   "source": [
    "draw(name) #Run this cell only if drawing hints are provided in the netlist in the format mentioned earlier."
   ]
  },
  {
   "cell_type": "code",
   "execution_count": 31,
   "id": "5dd55e9e",
   "metadata": {},
   "outputs": [
    {
     "name": "stdout",
     "output_type": "stream",
     "text": [
      "Look at the index number (below the graph) and modify it !  and change t1 too !\n"
     ]
    },
    {
     "data": {
      "application/vnd.jupyter.widget-view+json": {
       "model_id": "921bc6f69adc44fd832a41bf1e507d4e",
       "version_major": 2,
       "version_minor": 0
      },
      "text/plain": [
       "interactive(children=(Dropdown(description='i', options=(0, 1, 2, 3, 4), value=0), FloatSlider(value=10.0, des…"
      ]
     },
     "metadata": {},
     "output_type": "display_data"
    },
    {
     "name": "stdout",
     "output_type": "stream",
     "text": [
      "The voltage at node GND is [0.]\n",
      "The voltage at node 1 is [-10.]\n",
      "The voltage at node 2 is [-5.55555556]\n",
      "The voltage at node 3 is [-3.7037037]\n",
      "The current through voltage source 10.0 V between nodes (0, 1) is [-2.22222222]\n"
     ]
    }
   ],
   "source": [
    "cktsolver(n, k, r, c, ll, v, cur, 0)"
   ]
  },
  {
   "cell_type": "markdown",
   "id": "ba7c9236",
   "metadata": {},
   "source": [
    "### Range of Widgets :\n",
    "- R values can range from $10^{-10}$ $\\Omega$  to  $10^{8}$ $\\Omega$\n",
    "- C values can range from $10^{-10}$ $F$  to  $10^{8}$ $F$\n",
    "- L values can range from $10^{-10}$ $H$  to  $10^{8}$ $H$\n",
    "- V values can range from $10^{-3}$ V to $10^3$ V\n",
    "- A values can range from $10^{-3}$ A to $10^3$ A\n",
    "\n",
    "After changing the component values, do not forget to press the run interact option. This will register the changes made and will be reflected on the graph."
   ]
  },
  {
   "cell_type": "code",
   "execution_count": 33,
   "id": "071f748a",
   "metadata": {},
   "outputs": [
    {
     "name": "stdout",
     "output_type": "stream",
     "text": [
      "Change the value of resistor between nodes (1, 2)\n"
     ]
    },
    {
     "data": {
      "application/vnd.jupyter.widget-view+json": {
       "model_id": "c8d086459011417a8cec4e311af9e9e6",
       "version_major": 2,
       "version_minor": 0
      },
      "text/plain": [
       "interactive(children=(FloatSlider(value=1.0, description='x', max=100000000.0, min=1e-10, step=1e-10), Output(…"
      ]
     },
     "metadata": {},
     "output_type": "display_data"
    },
    {
     "name": "stdout",
     "output_type": "stream",
     "text": [
      "Change the value of resistor between nodes (3, 0)\n"
     ]
    },
    {
     "data": {
      "application/vnd.jupyter.widget-view+json": {
       "model_id": "abd7618406cb4057a8d2435e10fcbbe7",
       "version_major": 2,
       "version_minor": 0
      },
      "text/plain": [
       "interactive(children=(FloatSlider(value=1.0, description='x', max=100000000.0, min=1e-10, step=1e-10), Output(…"
      ]
     },
     "metadata": {},
     "output_type": "display_data"
    },
    {
     "name": "stdout",
     "output_type": "stream",
     "text": [
      "Change the value of inductor between nodes (2, 3)\n"
     ]
    },
    {
     "data": {
      "application/vnd.jupyter.widget-view+json": {
       "model_id": "d63ed5b71b0141c5b6cfc02ea29107da",
       "version_major": 2,
       "version_minor": 0
      },
      "text/plain": [
       "interactive(children=(FloatSlider(value=1.0, description='x', max=100000000.0, min=1e-10, step=1e-10), Output(…"
      ]
     },
     "metadata": {},
     "output_type": "display_data"
    },
    {
     "name": "stdout",
     "output_type": "stream",
     "text": [
      "Enter initial current in inductor(2, 3)\n"
     ]
    },
    {
     "data": {
      "application/vnd.jupyter.widget-view+json": {
       "model_id": "d07107bc8abb426eb967afe5641ea9df",
       "version_major": 2,
       "version_minor": 0
      },
      "text/plain": [
       "interactive(children=(FloatSlider(value=0.0, description='x', max=1000.0, min=-1000.0, step=0.001), Output()),…"
      ]
     },
     "metadata": {},
     "output_type": "display_data"
    },
    {
     "name": "stdout",
     "output_type": "stream",
     "text": [
      "Change the value of voltage source between nodes (0, 1)\n"
     ]
    },
    {
     "data": {
      "application/vnd.jupyter.widget-view+json": {
       "model_id": "951d37b2b89a4cb88ead38f87754473b",
       "version_major": 2,
       "version_minor": 0
      },
      "text/plain": [
       "interactive(children=(FloatSlider(value=5.0, description='x', max=1000.0, min=-1000.0, step=0.001), Output()),…"
      ]
     },
     "metadata": {},
     "output_type": "display_data"
    },
    {
     "data": {
      "application/vnd.jupyter.widget-view+json": {
       "model_id": "2a9ac81320f04b94940de0e112957b0a",
       "version_major": 2,
       "version_minor": 0
      },
      "text/plain": [
       "interactive(children=(Button(description='Run Interact', style=ButtonStyle()), Output()), _dom_classes=('widge…"
      ]
     },
     "metadata": {},
     "output_type": "display_data"
    },
    {
     "data": {
      "text/plain": [
       "<function __main__.detectchange()>"
      ]
     },
     "execution_count": 33,
     "metadata": {},
     "output_type": "execute_result"
    }
   ],
   "source": [
    "for res in r : #Used to change value of resistor dynamically\n",
    "    print(\"Change the value of resistor between nodes \"+str(res.nodes))\n",
    "    lwr.append(widget(res.value))\n",
    "for cap in c : #Used to change value of capacitor dynamically\n",
    "    print(\"Change the value of capacitor between nodes \"+str(cap.nodes))\n",
    "    lwc.append(widget(cap.value))\n",
    "    print(\"Enter initial charge on capacitor\"+str(cap.nodes))\n",
    "    lwccharge.append(widgetvi(cap.charge))\n",
    "for ind in ll : #Used to change value of inductor dynamically\n",
    "    print(\"Change the value of inductor between nodes \"+str(ind.nodes))\n",
    "    lwl.append(widget(ind.value))\n",
    "    print(\"Enter initial current in inductor\"+str(ind.nodes))\n",
    "    lwlcurrent.append(widgetvi(ind.current))\n",
    "for vol in v: #Used to change value of voltage source dynamically\n",
    "    print(\"Change the value of voltage source between nodes \"+str(vol.nodes))\n",
    "    lwv.append(widgetvi(abs(vol.value)))\n",
    "for curr in cur: #Used to change value of current source dynamically\n",
    "    print(\"Change the value of current source between nodes \"+str(curr.nodes))\n",
    "    lwi.append(widgetvi(abs(curr.value)))\n",
    "wdg.interact_manual(detectchange)"
   ]
  },
  {
   "cell_type": "markdown",
   "id": "fb8b84ae",
   "metadata": {},
   "source": [
    "The below cell plots the function V(s) or I(s). This is important in many design applications in finding out the location of poles and zeroes in the complex s plane."
   ]
  },
  {
   "cell_type": "code",
   "execution_count": 34,
   "id": "70e52879",
   "metadata": {
    "scrolled": true
   },
   "outputs": [
    {
     "name": "stdout",
     "output_type": "stream",
     "text": [
      "Again ! Select the node or voltage source and get the s domain plot of the same!!!\n"
     ]
    },
    {
     "data": {
      "application/vnd.jupyter.widget-view+json": {
       "model_id": "731b2bc84fdd4917bb1ed715bab05ce1",
       "version_major": 2,
       "version_minor": 0
      },
      "text/plain": [
       "interactive(children=(Dropdown(description='i', options=(0, 1, 2, 3, 4), value=0), Output()), _dom_classes=('w…"
      ]
     },
     "metadata": {},
     "output_type": "display_data"
    },
    {
     "data": {
      "text/plain": [
       "<function __main__.BodePlot(i)>"
      ]
     },
     "execution_count": 34,
     "metadata": {},
     "output_type": "execute_result"
    }
   ],
   "source": [
    "print(\"Again ! Select the node or voltage source and get the s domain plot of the same!!!\")\n",
    "wdg.interact(BodePlot, i= range(n+k)) #Plots Bode Plots "
   ]
  },
  {
   "cell_type": "code",
   "execution_count": 35,
   "id": "00947286",
   "metadata": {},
   "outputs": [],
   "source": [
    "reset()"
   ]
  },
  {
   "cell_type": "markdown",
   "id": "87b21d2d",
   "metadata": {},
   "source": [
    "### When to call reset () ?\n",
    "Once you are done running each cell once, and want to load the next netlist. Run the reset() cell, this will clear all data corresponding to the current netlist and the program is ready to load the next netlist."
   ]
  },
  {
   "cell_type": "markdown",
   "id": "7432b7c5",
   "metadata": {},
   "source": [
    "# Limitations\n",
    "The limitations of the above Jupyter notebook model are - \n",
    "- The model assumes that sources are switched on or off at time t = 0. No other time is permitted. This is quite similar to LTSpice in a manner as in LTSpice, sources are permitted to start or stop at t = 0.\n",
    "- If you change resistors or any other elements in the circuit, the transients would be regenerated from t=0 and not the previous stopping instant. \n",
    "- The run_interact button needs to be pressed to register the changes. This cannot be avoided in Jupyter notebook which otherwise could easily have been avoided in the web version by appropriate background web code.\n",
    "- The option for wire has not been provided in the netlist. This will result in the circuit diagram not coming neatly in some cases. This can be added, but has not been added in this version since we were asked to deal with only R,L,C,V and I elements.\n",
    "\n",
    "The solutions to the above are the use of Javascript to extract data dynamically from the user and generate graphs spontaneously. This is under the domain of Web Development and thus, is beyond the scope of a Python programming course. \n",
    "\n",
    "In order to make this project similar to the one on Falstad, we would need to integrate this python notebook with appropriate Javascript background, which is seemingly beyond the scope of this course. Notwithstanding that, this is the maximum interactivity offered by Jupyter notebooks. For further improvement in interactivity, a well written Javascript code must be integrated with this notebook to capture values dynamically.\n",
    "\n",
    "All in all, this project could be considered as an alternate version of LTSpice and a precursor of Falstad."
   ]
  }
 ],
 "metadata": {
  "kernelspec": {
   "display_name": "Python 3 (ipykernel)",
   "language": "python",
   "name": "python3"
  },
  "language_info": {
   "codemirror_mode": {
    "name": "ipython",
    "version": 3
   },
   "file_extension": ".py",
   "mimetype": "text/x-python",
   "name": "python",
   "nbconvert_exporter": "python",
   "pygments_lexer": "ipython3",
   "version": "3.8.10"
  }
 },
 "nbformat": 4,
 "nbformat_minor": 5
}
